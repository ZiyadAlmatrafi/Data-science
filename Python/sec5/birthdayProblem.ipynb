{
  "nbformat": 4,
  "nbformat_minor": 0,
  "metadata": {
    "colab": {
      "name": "birthdayProblem.ipynb",
      "provenance": [],
      "authorship_tag": "ABX9TyOq1k0W7U/4t/Md6QYsmof6"
    },
    "kernelspec": {
      "name": "python3",
      "display_name": "Python 3"
    }
  },
  "cells": [
    {
      "cell_type": "code",
      "metadata": {
        "id": "nu1uo2VpbCoO",
        "outputId": "7f2f3587-e918-4a38-a7e4-7782d0dc3c87",
        "colab": {
          "base_uri": "https://localhost:8080/",
          "height": 34
        }
      },
      "source": [
        "import random\n",
        "\n",
        "#Number of people in the room\n",
        "nPeople = 25\n",
        "def check():\n",
        "    birthday_list = []\n",
        "\n",
        "    for i in range(nPeople):\n",
        "        birthday_list.append(random.randint(1,365)) #Add a random number from 1-365 to the list\n",
        "\n",
        "    #To check if there is the same birthday in the list\n",
        "    #if so return true\n",
        "    for n in birthday_list:\n",
        "        nCount = birthday_list.count(n)\n",
        "        if nCount > 1:\n",
        "            return True\n",
        "    return False\n",
        "\n",
        "found = 0 #Number of finding the same birthday in the list\n",
        "num_Times = 500 #Number of times\n",
        "\n",
        "for i in range(num_Times):\n",
        "\n",
        "    if check() == True:\n",
        "        found += 1\n",
        "\n",
        "print(str(found / num_Times*100)+\"%\") #Percent of finding person with the same birthday in the room"
      ],
      "execution_count": 19,
      "outputs": [
        {
          "output_type": "stream",
          "text": [
            "54.400000000000006%\n"
          ],
          "name": "stdout"
        }
      ]
    }
  ]
}