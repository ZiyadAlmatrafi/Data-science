{
  "nbformat": 4,
  "nbformat_minor": 0,
  "metadata": {
    "colab": {
      "name": "PandasBasics.ipynb",
      "provenance": [],
      "authorship_tag": "ABX9TyOBFZWtUgevUccSaDyuMnIT",
      "include_colab_link": true
    },
    "kernelspec": {
      "name": "python3",
      "display_name": "Python 3"
    }
  },
  "cells": [
    {
      "cell_type": "markdown",
      "metadata": {
        "id": "view-in-github",
        "colab_type": "text"
      },
      "source": [
        "<a href=\"https://colab.research.google.com/github/ZiyadAlmatrafi/Data-science/blob/master/Python/sec6/PandasBasics.ipynb\" target=\"_parent\"><img src=\"https://colab.research.google.com/assets/colab-badge.svg\" alt=\"Open In Colab\"/></a>"
      ]
    },
    {
      "cell_type": "code",
      "metadata": {
        "id": "NhyGj-wAwKJ8",
        "outputId": "d24e7fd5-0878-4575-ec3d-b13bdff90112",
        "colab": {
          "base_uri": "https://localhost:8080/",
          "height": 118
        }
      },
      "source": [
        "dict = {\"country\": [\"Brazil\", \"Russia\", \"India\", \"China\", \"South Africa\"],\n",
        "       \"capital\": [\"Brasilia\", \"Moscow\", \"New Dehli\", \"Beijing\", \"Pretoria\"],\n",
        "       \"area\": [8.516, 17.10, 3.286, 9.597, 1.221],\n",
        "       \"population\": [200.4, 143.5, 1252, 1357, 52.98] }\n",
        "\n",
        "import pandas as pd\n",
        "brics = pd.DataFrame(dict)\n",
        "print(brics)"
      ],
      "execution_count": 1,
      "outputs": [
        {
          "output_type": "stream",
          "text": [
            "        country    capital    area  population\n",
            "0        Brazil   Brasilia   8.516      200.40\n",
            "1        Russia     Moscow  17.100      143.50\n",
            "2         India  New Dehli   3.286     1252.00\n",
            "3         China    Beijing   9.597     1357.00\n",
            "4  South Africa   Pretoria   1.221       52.98\n"
          ],
          "name": "stdout"
        }
      ]
    },
    {
      "cell_type": "code",
      "metadata": {
        "id": "2lbkZBJqwM5Y",
        "outputId": "5f4a3490-c68f-4e21-adf0-871f91db0b89",
        "colab": {
          "base_uri": "https://localhost:8080/",
          "height": 118
        }
      },
      "source": [
        "# Set the index for brics\n",
        "brics.index = [\"BR\", \"RU\", \"IN\", \"CH\", \"SA\"]\n",
        "\n",
        "# Print out brics with new index values\n",
        "print(brics)"
      ],
      "execution_count": 2,
      "outputs": [
        {
          "output_type": "stream",
          "text": [
            "         country    capital    area  population\n",
            "BR        Brazil   Brasilia   8.516      200.40\n",
            "RU        Russia     Moscow  17.100      143.50\n",
            "IN         India  New Dehli   3.286     1252.00\n",
            "CH         China    Beijing   9.597     1357.00\n",
            "SA  South Africa   Pretoria   1.221       52.98\n"
          ],
          "name": "stdout"
        }
      ]
    },
    {
      "cell_type": "code",
      "metadata": {
        "id": "GOEIJF4dwQKn",
        "outputId": "32235303-b2f3-4501-8ea9-ba5cefb201b7",
        "colab": {
          "base_uri": "https://localhost:8080/",
          "height": 151
        }
      },
      "source": [
        "# Import pandas as pd\n",
        "import pandas as pd\n",
        "\n",
        "# Import the cars.csv data: cars\n",
        "cars = pd.read_csv('https://raw.githubusercontent.com/daniel-dc-cd/data_science/master/pandas_dataframes_PY_wk2_dy1/data/cars.csv')\n",
        "\n",
        "# Print out cars\n",
        "print(cars)"
      ],
      "execution_count": 4,
      "outputs": [
        {
          "output_type": "stream",
          "text": [
            "  country_code  cars_per_cap        country  drives_right\n",
            "0           US           809  United States          True\n",
            "1          AUS           731      Australia         False\n",
            "2          JAP           588          Japan         False\n",
            "3           IN            18          India         False\n",
            "4           RU           200         Russia          True\n",
            "5          MOR            70        Morocco          True\n",
            "6           EG            45          Egypt          True\n"
          ],
          "name": "stdout"
        }
      ]
    },
    {
      "cell_type": "code",
      "metadata": {
        "id": "Kx7_qiipwPd5",
        "outputId": "a68636fd-6088-4408-f34b-59bdd5ec020b",
        "colab": {
          "base_uri": "https://localhost:8080/",
          "height": 470
        }
      },
      "source": [
        "# Import pandas and cars.csv\n",
        "import pandas as pd\n",
        "cars = pd.read_csv('https://raw.githubusercontent.com/daniel-dc-cd/data_science/master/pandas_dataframes_PY_wk2_dy1/data/cars.csv', index_col = 0)\n",
        "\n",
        "# Print out country column as Pandas Series\n",
        "print(cars['cars_per_cap'])\n",
        "\n",
        "# Print out country column as Pandas DataFrame\n",
        "print(cars[['cars_per_cap']])\n",
        "\n",
        "# Print out DataFrame with country and drives_right columns\n",
        "print(cars[['cars_per_cap', 'country']])"
      ],
      "execution_count": 6,
      "outputs": [
        {
          "output_type": "stream",
          "text": [
            "country_code\n",
            "US     809\n",
            "AUS    731\n",
            "JAP    588\n",
            "IN      18\n",
            "RU     200\n",
            "MOR     70\n",
            "EG      45\n",
            "Name: cars_per_cap, dtype: int64\n",
            "              cars_per_cap\n",
            "country_code              \n",
            "US                     809\n",
            "AUS                    731\n",
            "JAP                    588\n",
            "IN                      18\n",
            "RU                     200\n",
            "MOR                     70\n",
            "EG                      45\n",
            "              cars_per_cap        country\n",
            "country_code                             \n",
            "US                     809  United States\n",
            "AUS                    731      Australia\n",
            "JAP                    588          Japan\n",
            "IN                      18          India\n",
            "RU                     200         Russia\n",
            "MOR                     70        Morocco\n",
            "EG                      45          Egypt\n"
          ],
          "name": "stdout"
        }
      ]
    },
    {
      "cell_type": "code",
      "metadata": {
        "id": "FJxOGLJGwda0",
        "outputId": "19bc9fbf-a735-4ff3-e421-da644c37ea99",
        "colab": {
          "base_uri": "https://localhost:8080/",
          "height": 185
        }
      },
      "source": [
        "# Import cars data\n",
        "import pandas as pd\n",
        "cars = pd.read_csv('https://raw.githubusercontent.com/daniel-dc-cd/data_science/master/pandas_dataframes_PY_wk2_dy1/data/cars.csv', index_col = 0)\n",
        "\n",
        "# Print out first 4 observations\n",
        "print(cars[0:4])\n",
        "\n",
        "# Print out fifth and sixth observation\n",
        "print(cars[4:6])"
      ],
      "execution_count": 7,
      "outputs": [
        {
          "output_type": "stream",
          "text": [
            "              cars_per_cap        country  drives_right\n",
            "country_code                                           \n",
            "US                     809  United States          True\n",
            "AUS                    731      Australia         False\n",
            "JAP                    588          Japan         False\n",
            "IN                      18          India         False\n",
            "              cars_per_cap  country  drives_right\n",
            "country_code                                     \n",
            "RU                     200   Russia          True\n",
            "MOR                     70  Morocco          True\n"
          ],
          "name": "stdout"
        }
      ]
    },
    {
      "cell_type": "code",
      "metadata": {
        "id": "ouxvW9yZwhX7",
        "outputId": "f3197838-0de1-441b-ad07-79db19d47f5d",
        "colab": {
          "base_uri": "https://localhost:8080/",
          "height": 151
        }
      },
      "source": [
        "# Import cars data\n",
        "import pandas as pd\n",
        "cars = pd.read_csv('https://raw.githubusercontent.com/daniel-dc-cd/data_science/master/pandas_dataframes_PY_wk2_dy1/data/cars.csv', index_col = 0)\n",
        "\n",
        "# Print out observation for Japan\n",
        "print(cars.iloc[2])\n",
        "\n",
        "# Print out observations for Australia and Egypt\n",
        "print(cars.loc[['AUS', 'EG']])"
      ],
      "execution_count": 8,
      "outputs": [
        {
          "output_type": "stream",
          "text": [
            "cars_per_cap      588\n",
            "country         Japan\n",
            "drives_right    False\n",
            "Name: JAP, dtype: object\n",
            "              cars_per_cap    country  drives_right\n",
            "country_code                                       \n",
            "AUS                    731  Australia         False\n",
            "EG                      45      Egypt          True\n"
          ],
          "name": "stdout"
        }
      ]
    }
  ]
}