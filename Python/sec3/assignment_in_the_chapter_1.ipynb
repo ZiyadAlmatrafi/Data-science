{
  "nbformat": 4,
  "nbformat_minor": 0,
  "metadata": {
    "colab": {
      "name": "assignment in the chapter_1.ipynb",
      "provenance": [],
      "authorship_tag": "ABX9TyPfdJp2qOWAoeAqF4/RseyZ"
    },
    "kernelspec": {
      "name": "python3",
      "display_name": "Python 3"
    }
  },
  "cells": [
    {
      "cell_type": "markdown",
      "metadata": {
        "id": "cmXxSYJ_SJZG"
      },
      "source": [
        "print the numbers between 1 and 100"
      ]
    },
    {
      "cell_type": "code",
      "metadata": {
        "id": "u-v9O2BGRzDf"
      },
      "source": [
        "for i in range(100):\n",
        "    print(i+1)"
      ],
      "execution_count": null,
      "outputs": []
    },
    {
      "cell_type": "markdown",
      "metadata": {
        "id": "gO5bEToISKwI"
      },
      "source": [
        "print the numbers between 1 and 100 divisible by 8"
      ]
    },
    {
      "cell_type": "code",
      "metadata": {
        "id": "qr40fU68R2Ff"
      },
      "source": [
        "for i in range(100):\n",
        "    if((i+1)%8 == 0):\n",
        "        print(i+1)\n",
        "    else:\n",
        "        next"
      ],
      "execution_count": null,
      "outputs": []
    },
    {
      "cell_type": "markdown",
      "metadata": {
        "id": "MVHqOr5GSNXi"
      },
      "source": [
        "Use a while loop to find the first 20 numbers divisible by 5"
      ]
    },
    {
      "cell_type": "code",
      "metadata": {
        "id": "uNflkinVR5t9"
      },
      "source": [
        "start = 1\n",
        "count = 0\n",
        "while count<20:\n",
        "    if (start%5==0):\n",
        "        print(start)\n",
        "        count+=1\n",
        "    start +=1"
      ],
      "execution_count": null,
      "outputs": []
    },
    {
      "cell_type": "markdown",
      "metadata": {
        "id": "y8zFH2PySDeY"
      },
      "source": [
        "simple_adding_function(3,4)\n",
        "Create a function that evaluates if a number is prime (you can not use a list of known primes). Only allow values between 0 and 100.\n"
      ]
    },
    {
      "cell_type": "code",
      "metadata": {
        "id": "ROpUwXxCR-Qp"
      },
      "source": [
        "\n",
        "def prime(a):\n",
        "    for i in range(2,a):\n",
        "        if((a%(i) == 0)&(a!=(i))):\n",
        "            return(a,\" is not Prime\")\n",
        "    return(a,\" is a prime number\")\n",
        "prime(13)\n",
        "(13, ' is a prime number')"
      ],
      "execution_count": null,
      "outputs": []
    }
  ]
}