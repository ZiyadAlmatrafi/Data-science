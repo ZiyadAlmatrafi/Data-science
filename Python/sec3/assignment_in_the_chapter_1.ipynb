{
  "nbformat": 4,
  "nbformat_minor": 0,
  "metadata": {
    "colab": {
      "name": "assignment in the chapter_1.ipynb",
      "provenance": [],
      "authorship_tag": "ABX9TyNF8mfdihGzP+iC8ApZ06WR",
      "include_colab_link": true
    },
    "kernelspec": {
      "name": "python3",
      "display_name": "Python 3"
    }
  },
  "cells": [
    {
      "cell_type": "markdown",
      "metadata": {
        "id": "view-in-github",
        "colab_type": "text"
      },
      "source": [
        "<a href=\"https://colab.research.google.com/github/ZiyadAlmatrafi/Data-science/blob/master/Python/sec3/assignment_in_the_chapter_1.ipynb\" target=\"_parent\"><img src=\"https://colab.research.google.com/assets/colab-badge.svg\" alt=\"Open In Colab\"/></a>"
      ]
    },
    {
      "cell_type": "markdown",
      "metadata": {
        "id": "cmXxSYJ_SJZG"
      },
      "source": [
        "print the numbers between 1 and 100"
      ]
    },
    {
      "cell_type": "code",
      "metadata": {
        "id": "u-v9O2BGRzDf",
        "outputId": "bbf49bdb-03c9-4b74-cc7e-dfdc2075fa71",
        "colab": {
          "base_uri": "https://localhost:8080/",
          "height": 1000
        }
      },
      "source": [
        "for i in range(100):\n",
        "    print(i+1)"
      ],
      "execution_count": 1,
      "outputs": [
        {
          "output_type": "stream",
          "text": [
            "1\n",
            "2\n",
            "3\n",
            "4\n",
            "5\n",
            "6\n",
            "7\n",
            "8\n",
            "9\n",
            "10\n",
            "11\n",
            "12\n",
            "13\n",
            "14\n",
            "15\n",
            "16\n",
            "17\n",
            "18\n",
            "19\n",
            "20\n",
            "21\n",
            "22\n",
            "23\n",
            "24\n",
            "25\n",
            "26\n",
            "27\n",
            "28\n",
            "29\n",
            "30\n",
            "31\n",
            "32\n",
            "33\n",
            "34\n",
            "35\n",
            "36\n",
            "37\n",
            "38\n",
            "39\n",
            "40\n",
            "41\n",
            "42\n",
            "43\n",
            "44\n",
            "45\n",
            "46\n",
            "47\n",
            "48\n",
            "49\n",
            "50\n",
            "51\n",
            "52\n",
            "53\n",
            "54\n",
            "55\n",
            "56\n",
            "57\n",
            "58\n",
            "59\n",
            "60\n",
            "61\n",
            "62\n",
            "63\n",
            "64\n",
            "65\n",
            "66\n",
            "67\n",
            "68\n",
            "69\n",
            "70\n",
            "71\n",
            "72\n",
            "73\n",
            "74\n",
            "75\n",
            "76\n",
            "77\n",
            "78\n",
            "79\n",
            "80\n",
            "81\n",
            "82\n",
            "83\n",
            "84\n",
            "85\n",
            "86\n",
            "87\n",
            "88\n",
            "89\n",
            "90\n",
            "91\n",
            "92\n",
            "93\n",
            "94\n",
            "95\n",
            "96\n",
            "97\n",
            "98\n",
            "99\n",
            "100\n"
          ],
          "name": "stdout"
        }
      ]
    },
    {
      "cell_type": "markdown",
      "metadata": {
        "id": "gO5bEToISKwI"
      },
      "source": [
        "print the numbers between 1 and 100 divisible by 8"
      ]
    },
    {
      "cell_type": "code",
      "metadata": {
        "id": "qr40fU68R2Ff",
        "outputId": "3f511445-485d-438f-bd9d-23f9ede4aa04",
        "colab": {
          "base_uri": "https://localhost:8080/",
          "height": 221
        }
      },
      "source": [
        "for i in range(100):\n",
        "    if((i+1)%8 == 0):\n",
        "        print(i+1)\n",
        "    else:\n",
        "        next"
      ],
      "execution_count": 2,
      "outputs": [
        {
          "output_type": "stream",
          "text": [
            "8\n",
            "16\n",
            "24\n",
            "32\n",
            "40\n",
            "48\n",
            "56\n",
            "64\n",
            "72\n",
            "80\n",
            "88\n",
            "96\n"
          ],
          "name": "stdout"
        }
      ]
    },
    {
      "cell_type": "markdown",
      "metadata": {
        "id": "MVHqOr5GSNXi"
      },
      "source": [
        "Use a while loop to find the first 20 numbers divisible by 5"
      ]
    },
    {
      "cell_type": "code",
      "metadata": {
        "id": "uNflkinVR5t9",
        "outputId": "03fb53c2-45c6-4f04-9646-d7a04aa83406",
        "colab": {
          "base_uri": "https://localhost:8080/",
          "height": 357
        }
      },
      "source": [
        "start = 1\n",
        "count = 0\n",
        "while count<20:\n",
        "    if (start%5==0):\n",
        "        print(start)\n",
        "        count+=1\n",
        "    start +=1"
      ],
      "execution_count": 3,
      "outputs": [
        {
          "output_type": "stream",
          "text": [
            "5\n",
            "10\n",
            "15\n",
            "20\n",
            "25\n",
            "30\n",
            "35\n",
            "40\n",
            "45\n",
            "50\n",
            "55\n",
            "60\n",
            "65\n",
            "70\n",
            "75\n",
            "80\n",
            "85\n",
            "90\n",
            "95\n",
            "100\n"
          ],
          "name": "stdout"
        }
      ]
    },
    {
      "cell_type": "markdown",
      "metadata": {
        "id": "y8zFH2PySDeY"
      },
      "source": [
        "simple_adding_function(3,4)\n",
        "Create a function that evaluates if a number is prime (you can not use a list of known primes). Only allow values between 0 and 100.\n"
      ]
    },
    {
      "cell_type": "code",
      "metadata": {
        "id": "ROpUwXxCR-Qp",
        "outputId": "72da1553-e6d6-4db5-b219-ca1579ebd967",
        "colab": {
          "base_uri": "https://localhost:8080/",
          "height": 34
        }
      },
      "source": [
        "\n",
        "def prime(a):\n",
        "    for i in range(2,a):\n",
        "        if((a%(i) == 0)&(a!=(i))):\n",
        "            return(a,\" is not Prime\")\n",
        "    return(a,\" is a prime number\")\n",
        "prime(13)"
      ],
      "execution_count": 5,
      "outputs": [
        {
          "output_type": "execute_result",
          "data": {
            "text/plain": [
              "(13, ' is a prime number')"
            ]
          },
          "metadata": {
            "tags": []
          },
          "execution_count": 5
        }
      ]
    }
  ]
}