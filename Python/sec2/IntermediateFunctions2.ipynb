{
  "nbformat": 4,
  "nbformat_minor": 0,
  "metadata": {
    "colab": {
      "name": "IntermediateFunctions2.ipynb",
      "provenance": [],
      "authorship_tag": "ABX9TyPW+nhT5Y/bkd/UCNrGdMYe"
    },
    "kernelspec": {
      "name": "python3",
      "display_name": "Python 3"
    }
  },
  "cells": [
    {
      "cell_type": "code",
      "metadata": {
        "id": "3rspuQ0TDZIL",
        "outputId": "a79a1818-44d7-4956-f770-9fa6c57ca08e",
        "colab": {
          "base_uri": "https://localhost:8080/",
          "height": 85
        }
      },
      "source": [
        "#1\n",
        "x = [ [5,2,3], [10,8,9] ] \n",
        "students = [\n",
        "     {'first_name':  'Michael', 'last_name' : 'Jordan'},\n",
        "     {'first_name' : 'John', 'last_name' : 'Rosales'}\n",
        "]\n",
        "sports_directory = {\n",
        "    'basketball' : ['Kobe', 'Jordan', 'James', 'Curry'],\n",
        "    'soccer' : ['Messi', 'Ronaldo', 'Rooney']\n",
        "}\n",
        "z = [ {'x': 10, 'y': 20} ]\n",
        "#1\n",
        "x[1][0] = 15\n",
        "print(x)\n",
        "#2\n",
        "students[0]['last_name']='Bryant'\n",
        "print(students)\n",
        "#3\n",
        "sports_directory['soccer'][0]='Andres'\n",
        "print(sports_directory)\n",
        "#4\n",
        "z[0]['y']=30\n",
        "print(z)"
      ],
      "execution_count": 8,
      "outputs": [
        {
          "output_type": "stream",
          "text": [
            "[[5, 2, 3], [15, 8, 9]]\n",
            "[{'first_name': 'Michael', 'last_name': 'Bryant'}, {'first_name': 'John', 'last_name': 'Rosales'}]\n",
            "{'basketball': ['Kobe', 'Jordan', 'James', 'Curry'], 'soccer': ['Andres', 'Ronaldo', 'Rooney']}\n",
            "[{'x': 10, 'y': 30}]\n"
          ],
          "name": "stdout"
        }
      ]
    },
    {
      "cell_type": "code",
      "metadata": {
        "id": "Os4DZEi1Fask"
      },
      "source": [
        "students = [\n",
        "         {'first_name':  'Michael', 'last_name' : 'Jordan'},\n",
        "         {'first_name' : 'John', 'last_name' : 'Rosales'},\n",
        "         {'first_name' : 'Mark', 'last_name' : 'Guillen'},\n",
        "         {'first_name' : 'KB', 'last_name' : 'Tonel'}\n",
        "    ]\n",
        "def iterateDictionary(some_list):\n",
        "    for i in  some_list:\n",
        "      print(i)\n",
        "\n",
        "iterateDictionary(students)"
      ],
      "execution_count": null,
      "outputs": []
    },
    {
      "cell_type": "code",
      "metadata": {
        "id": "3iWbxutJGBxq",
        "outputId": "4dd7f893-6ca9-4dda-ae0c-4e9a12e72e47",
        "colab": {
          "base_uri": "https://localhost:8080/",
          "height": 85
        }
      },
      "source": [
        "def iterateDictionary2(key_name,some_list):\n",
        "  for i in some_list:\n",
        "    print(i[key_name])\n",
        "iterateDictionary2('first_name', students)"
      ],
      "execution_count": 18,
      "outputs": [
        {
          "output_type": "stream",
          "text": [
            "Michael\n",
            "John\n",
            "Mark\n",
            "KB\n"
          ],
          "name": "stdout"
        }
      ]
    },
    {
      "cell_type": "code",
      "metadata": {
        "id": "JE6oUU74HgP-",
        "outputId": "1122fcf0-9ac4-4083-cd56-f71a33dcf033",
        "colab": {
          "base_uri": "https://localhost:8080/",
          "height": 51
        }
      },
      "source": [
        "dojo = {\n",
        "   'locations': ['San Jose', 'Seattle', 'Dallas', 'Chicago', 'Tulsa', 'DC', 'Burbank'],\n",
        "   'instructors': ['Michael', 'Amy', 'Eduardo', 'Josh', 'Graham', 'Patrick', 'Minh', 'Devon']\n",
        "}\n",
        "def printInfo(some_dict):\n",
        "  for k,i in some_dict.items():\n",
        "    print(len(i),k,\":\", i)\n",
        "printInfo(dojo)"
      ],
      "execution_count": 33,
      "outputs": [
        {
          "output_type": "stream",
          "text": [
            "7 locations : ['San Jose', 'Seattle', 'Dallas', 'Chicago', 'Tulsa', 'DC', 'Burbank']\n",
            "8 instructors : ['Michael', 'Amy', 'Eduardo', 'Josh', 'Graham', 'Patrick', 'Minh', 'Devon']\n"
          ],
          "name": "stdout"
        }
      ]
    }
  ]
}