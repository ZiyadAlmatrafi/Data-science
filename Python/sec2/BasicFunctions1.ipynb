{
  "nbformat": 4,
  "nbformat_minor": 0,
  "metadata": {
    "colab": {
      "name": "BasicFunctions1.ipynb",
      "provenance": [],
      "authorship_tag": "ABX9TyNttinRrbCneBQ+nTj5dpXJ",
      "include_colab_link": true
    },
    "kernelspec": {
      "name": "python3",
      "display_name": "Python 3"
    }
  },
  "cells": [
    {
      "cell_type": "markdown",
      "metadata": {
        "id": "view-in-github",
        "colab_type": "text"
      },
      "source": [
        "<a href=\"https://colab.research.google.com/github/ZiyadAlmatrafi/Data-science/blob/master/BasicFunctions1.ipynb\" target=\"_parent\"><img src=\"https://colab.research.google.com/assets/colab-badge.svg\" alt=\"Open In Colab\"/></a>"
      ]
    },
    {
      "cell_type": "code",
      "metadata": {
        "id": "wJTFRtFXC0eY",
        "outputId": "9ba656ae-5ae9-4d83-898b-903fc19276ef",
        "colab": {
          "base_uri": "https://localhost:8080/",
          "height": 34
        }
      },
      "source": [
        "#1\n",
        "def a():\n",
        "    return 5\n",
        "print(a())\n",
        "#5"
      ],
      "execution_count": 1,
      "outputs": [
        {
          "output_type": "stream",
          "text": [
            "5\n"
          ],
          "name": "stdout"
        }
      ]
    },
    {
      "cell_type": "code",
      "metadata": {
        "id": "PiFTUQoTDY8Z",
        "outputId": "ab58bdb8-24e0-4ba0-9218-4a1f76743f3b",
        "colab": {
          "base_uri": "https://localhost:8080/",
          "height": 34
        }
      },
      "source": [
        "#2\n",
        "def a():\n",
        "    return 5\n",
        "print(a()+a())\n",
        "#10"
      ],
      "execution_count": 2,
      "outputs": [
        {
          "output_type": "stream",
          "text": [
            "10\n"
          ],
          "name": "stdout"
        }
      ]
    },
    {
      "cell_type": "code",
      "metadata": {
        "id": "gSMcZqD4DeCq",
        "outputId": "ed68e9b8-67d6-410f-a848-895dbaf1241f",
        "colab": {
          "base_uri": "https://localhost:8080/",
          "height": 34
        }
      },
      "source": [
        "#3\n",
        "def a():\n",
        "    return 5\n",
        "    return 10\n",
        "print(a())\n",
        "#5"
      ],
      "execution_count": 3,
      "outputs": [
        {
          "output_type": "stream",
          "text": [
            "5\n"
          ],
          "name": "stdout"
        }
      ]
    },
    {
      "cell_type": "code",
      "metadata": {
        "id": "c6sLoshVDhZt",
        "outputId": "041951e1-8675-4194-cc8d-4b2e80d5e860",
        "colab": {
          "base_uri": "https://localhost:8080/",
          "height": 34
        }
      },
      "source": [
        "#4\n",
        "def a():\n",
        "    return 5\n",
        "    print(10)\n",
        "print(a())\n",
        "#5"
      ],
      "execution_count": 4,
      "outputs": [
        {
          "output_type": "stream",
          "text": [
            "5\n"
          ],
          "name": "stdout"
        }
      ]
    },
    {
      "cell_type": "code",
      "metadata": {
        "id": "7yDcmIR_DlnK",
        "outputId": "03cd8aea-fc1e-461d-9355-900cf5723436",
        "colab": {
          "base_uri": "https://localhost:8080/",
          "height": 51
        }
      },
      "source": [
        "#5\n",
        "def a():\n",
        "    print(5)\n",
        "x = a()\n",
        "print(x)\n",
        "#5"
      ],
      "execution_count": 5,
      "outputs": [
        {
          "output_type": "stream",
          "text": [
            "5\n",
            "None\n"
          ],
          "name": "stdout"
        }
      ]
    },
    {
      "cell_type": "code",
      "metadata": {
        "id": "QLyGZ249Dux6",
        "outputId": "d25fae9e-e854-431f-dd0c-fd07dc1775dd",
        "colab": {
          "base_uri": "https://localhost:8080/",
          "height": 248
        }
      },
      "source": [
        "#6\n",
        "def a(b,c):\n",
        "    print(b+c)\n",
        "print(a(1,2) + a(2,3))\n",
        "#8"
      ],
      "execution_count": 6,
      "outputs": [
        {
          "output_type": "stream",
          "text": [
            "3\n",
            "5\n"
          ],
          "name": "stdout"
        },
        {
          "output_type": "error",
          "ename": "TypeError",
          "evalue": "ignored",
          "traceback": [
            "\u001b[0;31m---------------------------------------------------------------------------\u001b[0m",
            "\u001b[0;31mTypeError\u001b[0m                                 Traceback (most recent call last)",
            "\u001b[0;32m<ipython-input-6-161af84abd2d>\u001b[0m in \u001b[0;36m<module>\u001b[0;34m()\u001b[0m\n\u001b[1;32m      2\u001b[0m \u001b[0;32mdef\u001b[0m \u001b[0ma\u001b[0m\u001b[0;34m(\u001b[0m\u001b[0mb\u001b[0m\u001b[0;34m,\u001b[0m\u001b[0mc\u001b[0m\u001b[0;34m)\u001b[0m\u001b[0;34m:\u001b[0m\u001b[0;34m\u001b[0m\u001b[0;34m\u001b[0m\u001b[0m\n\u001b[1;32m      3\u001b[0m     \u001b[0mprint\u001b[0m\u001b[0;34m(\u001b[0m\u001b[0mb\u001b[0m\u001b[0;34m+\u001b[0m\u001b[0mc\u001b[0m\u001b[0;34m)\u001b[0m\u001b[0;34m\u001b[0m\u001b[0;34m\u001b[0m\u001b[0m\n\u001b[0;32m----> 4\u001b[0;31m \u001b[0mprint\u001b[0m\u001b[0;34m(\u001b[0m\u001b[0ma\u001b[0m\u001b[0;34m(\u001b[0m\u001b[0;36m1\u001b[0m\u001b[0;34m,\u001b[0m\u001b[0;36m2\u001b[0m\u001b[0;34m)\u001b[0m \u001b[0;34m+\u001b[0m \u001b[0ma\u001b[0m\u001b[0;34m(\u001b[0m\u001b[0;36m2\u001b[0m\u001b[0;34m,\u001b[0m\u001b[0;36m3\u001b[0m\u001b[0;34m)\u001b[0m\u001b[0;34m)\u001b[0m\u001b[0;34m\u001b[0m\u001b[0;34m\u001b[0m\u001b[0m\n\u001b[0m\u001b[1;32m      5\u001b[0m \u001b[0;31m#8\u001b[0m\u001b[0;34m\u001b[0m\u001b[0;34m\u001b[0m\u001b[0;34m\u001b[0m\u001b[0m\n",
            "\u001b[0;31mTypeError\u001b[0m: unsupported operand type(s) for +: 'NoneType' and 'NoneType'"
          ]
        }
      ]
    },
    {
      "cell_type": "code",
      "metadata": {
        "id": "PeWOu-20D5VW",
        "outputId": "f7f764d7-2b47-4438-8f72-2ea57e4a41f1",
        "colab": {
          "base_uri": "https://localhost:8080/",
          "height": 34
        }
      },
      "source": [
        "#7\n",
        "def a(b,c):\n",
        "    return str(b)+str(c)\n",
        "print(a(2,5))\n",
        "#25"
      ],
      "execution_count": 7,
      "outputs": [
        {
          "output_type": "stream",
          "text": [
            "25\n"
          ],
          "name": "stdout"
        }
      ]
    },
    {
      "cell_type": "code",
      "metadata": {
        "id": "xc23gcSXEGdp",
        "outputId": "7138df32-7b5e-4e44-a45a-cc414d37b4c5",
        "colab": {
          "base_uri": "https://localhost:8080/",
          "height": 51
        }
      },
      "source": [
        "#8\n",
        "def a():\n",
        "    b = 100\n",
        "    print(b)\n",
        "    if b < 10:\n",
        "        return 5\n",
        "    else:\n",
        "        return 10\n",
        "    return 7\n",
        "print(a())\n",
        "#100\n",
        "#10"
      ],
      "execution_count": 8,
      "outputs": [
        {
          "output_type": "stream",
          "text": [
            "100\n",
            "10\n"
          ],
          "name": "stdout"
        }
      ]
    },
    {
      "cell_type": "code",
      "metadata": {
        "id": "tI2n2XhREO1H",
        "outputId": "a14f11e9-b7ce-46f5-8de9-b574460c2964",
        "colab": {
          "base_uri": "https://localhost:8080/",
          "height": 68
        }
      },
      "source": [
        "#9\n",
        "def a(b,c):\n",
        "    if b<c:\n",
        "        return 7\n",
        "    else:\n",
        "        return 14\n",
        "    return 3\n",
        "print(a(2,3))\n",
        "print(a(5,3))\n",
        "print(a(2,3) + a(5,3))\n",
        "#7\n",
        "#14\n",
        "#21\n"
      ],
      "execution_count": 9,
      "outputs": [
        {
          "output_type": "stream",
          "text": [
            "7\n",
            "14\n",
            "21\n"
          ],
          "name": "stdout"
        }
      ]
    },
    {
      "cell_type": "code",
      "metadata": {
        "id": "kjmP_8MdEjlD",
        "outputId": "47fb9850-c50e-4b75-8f9c-06322968eb32",
        "colab": {
          "base_uri": "https://localhost:8080/",
          "height": 34
        }
      },
      "source": [
        "#10\n",
        "def a(b,c):\n",
        "    return b+c\n",
        "    return 10\n",
        "print(a(3,5))\n",
        "#8"
      ],
      "execution_count": 10,
      "outputs": [
        {
          "output_type": "stream",
          "text": [
            "8\n"
          ],
          "name": "stdout"
        }
      ]
    },
    {
      "cell_type": "code",
      "metadata": {
        "id": "VtQ8-ELnEu4p",
        "outputId": "42542349-642b-4aa5-dab5-0a71aa3ecd0a",
        "colab": {
          "base_uri": "https://localhost:8080/",
          "height": 85
        }
      },
      "source": [
        "#11\n",
        "b = 500\n",
        "print(b)\n",
        "def a():\n",
        "    b = 300\n",
        "    print(b)\n",
        "print(b)\n",
        "a()\n",
        "print(b)\n",
        "#500\n",
        "#500\n",
        "#300\n",
        "#500"
      ],
      "execution_count": 11,
      "outputs": [
        {
          "output_type": "stream",
          "text": [
            "500\n",
            "500\n",
            "300\n",
            "500\n"
          ],
          "name": "stdout"
        }
      ]
    },
    {
      "cell_type": "code",
      "metadata": {
        "id": "zsLePwiuE7d1",
        "outputId": "1278b238-d8ed-4c83-ed8b-c197553c1a96",
        "colab": {
          "base_uri": "https://localhost:8080/",
          "height": 85
        }
      },
      "source": [
        "#12\n",
        "b = 500\n",
        "print(b)\n",
        "def a():\n",
        "    b = 300\n",
        "    print(b)\n",
        "    return b\n",
        "print(b)\n",
        "a()\n",
        "print(b)\n",
        "#500\n",
        "#500\n",
        "#300\n",
        "#500"
      ],
      "execution_count": 12,
      "outputs": [
        {
          "output_type": "stream",
          "text": [
            "500\n",
            "500\n",
            "300\n",
            "500\n"
          ],
          "name": "stdout"
        }
      ]
    },
    {
      "cell_type": "code",
      "metadata": {
        "id": "UWYgOXHlFU02",
        "outputId": "8d5567de-ffbf-4c5e-9516-e8decc4b6c1c",
        "colab": {
          "base_uri": "https://localhost:8080/",
          "height": 85
        }
      },
      "source": [
        "#13\n",
        "b = 500\n",
        "print(b)\n",
        "def a():\n",
        "    b = 300\n",
        "    print(b)\n",
        "    return b\n",
        "print(b)\n",
        "b=a()\n",
        "print(b)\n",
        "#500\n",
        "#500\n",
        "#300\n",
        "#300"
      ],
      "execution_count": 13,
      "outputs": [
        {
          "output_type": "stream",
          "text": [
            "500\n",
            "500\n",
            "300\n",
            "300\n"
          ],
          "name": "stdout"
        }
      ]
    },
    {
      "cell_type": "code",
      "metadata": {
        "id": "sVUGhDrFFgNs",
        "outputId": "d2484aae-f8c1-4367-f5ee-2bff4a79f957",
        "colab": {
          "base_uri": "https://localhost:8080/",
          "height": 68
        }
      },
      "source": [
        "#14\n",
        "def a():\n",
        "    print(1)\n",
        "    b()\n",
        "    print(2)\n",
        "def b():\n",
        "    print(3)\n",
        "a()\n",
        "#1\n",
        "#3\n",
        "#2"
      ],
      "execution_count": 14,
      "outputs": [
        {
          "output_type": "stream",
          "text": [
            "1\n",
            "3\n",
            "2\n"
          ],
          "name": "stdout"
        }
      ]
    },
    {
      "cell_type": "code",
      "metadata": {
        "id": "COu_mxYPFou-",
        "outputId": "a6d41e1e-8782-4979-9f65-3b7d1788a62d",
        "colab": {
          "base_uri": "https://localhost:8080/",
          "height": 85
        }
      },
      "source": [
        "#15\n",
        "def a():\n",
        "    print(1)\n",
        "    x = b()\n",
        "    print(x)\n",
        "    return 10\n",
        "def b():\n",
        "    print(3)\n",
        "    return 5\n",
        "y = a()\n",
        "print(y)\n",
        "#1\n",
        "#3\n",
        "#5\n",
        "#10"
      ],
      "execution_count": 15,
      "outputs": [
        {
          "output_type": "stream",
          "text": [
            "1\n",
            "3\n",
            "5\n",
            "10\n"
          ],
          "name": "stdout"
        }
      ]
    }
  ]
}
