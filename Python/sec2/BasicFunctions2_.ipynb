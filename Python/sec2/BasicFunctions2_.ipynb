{
  "nbformat": 4,
  "nbformat_minor": 0,
  "metadata": {
    "colab": {
      "name": "BasicFunctions2 .ipynb",
      "provenance": [],
      "authorship_tag": "ABX9TyMEospixbC+jIsHl3QCKIMS"
    },
    "kernelspec": {
      "name": "python3",
      "display_name": "Python 3"
    }
  },
  "cells": [
    {
      "cell_type": "code",
      "metadata": {
        "id": "PYvYfpAOHPG9",
        "outputId": "220e4157-d72b-4282-ced4-aebefda26cd1",
        "colab": {
          "base_uri": "https://localhost:8080/",
          "height": 34
        }
      },
      "source": [
        "\n",
        "def countDown(a):\n",
        "    return list(range(a,0,-1))\n",
        "\n",
        "\n",
        "countDown(5)"
      ],
      "execution_count": 1,
      "outputs": [
        {
          "output_type": "execute_result",
          "data": {
            "text/plain": [
              "[5, 4, 3, 2, 1]"
            ]
          },
          "metadata": {
            "tags": []
          },
          "execution_count": 1
        }
      ]
    },
    {
      "cell_type": "code",
      "metadata": {
        "id": "eA0OD-3wMRTf",
        "outputId": "7ee754cd-8214-462a-a72b-ec4f3f75d498",
        "colab": {
          "base_uri": "https://localhost:8080/",
          "height": 51
        }
      },
      "source": [
        "def print_and_retun(my_list):\n",
        "      print(my_list[0])\n",
        "      return my_list[1]\n",
        "print_and_retun([1,2])"
      ],
      "execution_count": 2,
      "outputs": [
        {
          "output_type": "stream",
          "text": [
            "1\n"
          ],
          "name": "stdout"
        },
        {
          "output_type": "execute_result",
          "data": {
            "text/plain": [
              "2"
            ]
          },
          "metadata": {
            "tags": []
          },
          "execution_count": 2
        }
      ]
    },
    {
      "cell_type": "code",
      "metadata": {
        "id": "CCXmyvcLNbxE",
        "outputId": "680711a0-767d-4e1b-9010-b5a359524da4",
        "colab": {
          "base_uri": "https://localhost:8080/",
          "height": 34
        }
      },
      "source": [
        "def first_plus_length(my_list):\n",
        "    print(my_list[0]+len(my_list))\n",
        "first_plus_length([1,2,3,4,5])"
      ],
      "execution_count": 3,
      "outputs": [
        {
          "output_type": "stream",
          "text": [
            "6\n"
          ],
          "name": "stdout"
        }
      ]
    },
    {
      "cell_type": "code",
      "metadata": {
        "id": "Vp1AHGzvN0dg",
        "outputId": "267b5c66-b9d6-4ace-b444-b3770afba76a",
        "colab": {
          "base_uri": "https://localhost:8080/",
          "height": 34
        }
      },
      "source": [
        "my_list = []\n",
        "def length_and_value(size,value):\n",
        "      for i in range(0,size):\n",
        "        my_list.append(value)\n",
        "      return my_list\n",
        "length_and_value(6,2)"
      ],
      "execution_count": 4,
      "outputs": [
        {
          "output_type": "execute_result",
          "data": {
            "text/plain": [
              "[2, 2, 2, 2, 2, 2]"
            ]
          },
          "metadata": {
            "tags": []
          },
          "execution_count": 4
        }
      ]
    }
  ]
}