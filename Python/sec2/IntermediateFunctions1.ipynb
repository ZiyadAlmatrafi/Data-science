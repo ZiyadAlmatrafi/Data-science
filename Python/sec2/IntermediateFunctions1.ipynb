{
  "nbformat": 4,
  "nbformat_minor": 0,
  "metadata": {
    "colab": {
      "name": "IntermediateFunctions1.ipynb",
      "provenance": [],
      "authorship_tag": "ABX9TyPQ7x2w3TRmPYiegJji/W4t"
    },
    "kernelspec": {
      "name": "python3",
      "display_name": "Python 3"
    }
  },
  "cells": [
    {
      "cell_type": "code",
      "metadata": {
        "id": "wcwBVZtwlHBO",
        "outputId": "d0dc107e-3ffe-43f7-ab12-b9603287f8a0",
        "colab": {
          "base_uri": "https://localhost:8080/",
          "height": 85
        }
      },
      "source": [
        "import random\n",
        "def randInt(min=0   , max=100   ):\n",
        "    num = random.randint(min,max)\n",
        "    return num\n",
        "print(randInt()) \n",
        "print(randInt(max=50)) \t    \n",
        "print(randInt(min=50)) \t    \n",
        "print(randInt(min=50, max=500))"
      ],
      "execution_count": 40,
      "outputs": [
        {
          "output_type": "stream",
          "text": [
            "7\n",
            "38\n",
            "53\n",
            "141\n"
          ],
          "name": "stdout"
        }
      ]
    }
  ]
}