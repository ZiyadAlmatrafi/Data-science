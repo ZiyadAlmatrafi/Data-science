{
  "nbformat": 4,
  "nbformat_minor": 0,
  "metadata": {
    "colab": {
      "name": "BasicForLoops2.ipynb",
      "provenance": [],
      "authorship_tag": "ABX9TyMEnWypmGLcvRo1X78XXrf4"
    },
    "kernelspec": {
      "name": "python3",
      "display_name": "Python 3"
    }
  },
  "cells": [
    {
      "cell_type": "code",
      "metadata": {
        "id": "9_Ope_W7Rudi",
        "outputId": "8d32b20f-fd8d-42ef-a008-5465311c6ad2",
        "colab": {
          "base_uri": "https://localhost:8080/",
          "height": 34
        }
      },
      "source": [
        "\n",
        "def biggie_size(my_list):\n",
        "    for i in range(0,len(my_list)):\n",
        "      if my_list[i]>0:\n",
        "         my_list[i]= \"big\"\n",
        "    return my_list\n",
        "biggie_size([-1, 3, 5, -5])"
      ],
      "execution_count": 10,
      "outputs": [
        {
          "output_type": "execute_result",
          "data": {
            "text/plain": [
              "[-1, 'big', 'big', -5]"
            ]
          },
          "metadata": {
            "tags": []
          },
          "execution_count": 10
        }
      ]
    },
    {
      "cell_type": "code",
      "metadata": {
        "id": "w6Auo4cSTsDa",
        "outputId": "522d2a1d-5fdc-4912-b994-52e1da9b1bbc",
        "colab": {
          "base_uri": "https://localhost:8080/",
          "height": 34
        }
      },
      "source": [
        "\n",
        "def count_positives(my_list):\n",
        "  count =0\n",
        "  for i in range(0,len(my_list)):\n",
        "        if my_list[i]>0:\n",
        "          count+=1\n",
        "  my_list[-1]= count\n",
        "  return my_list\n",
        "count_positives([1,6,-4,-2,-7,-2]) "
      ],
      "execution_count": 32,
      "outputs": [
        {
          "output_type": "execute_result",
          "data": {
            "text/plain": [
              "[1, 6, -4, -2, -7, 2]"
            ]
          },
          "metadata": {
            "tags": []
          },
          "execution_count": 32
        }
      ]
    },
    {
      "cell_type": "code",
      "metadata": {
        "id": "xgPM-B3QXz4M",
        "outputId": "ce998924-17e4-4490-d91b-b8e3965e2dfc",
        "colab": {
          "base_uri": "https://localhost:8080/",
          "height": 34
        }
      },
      "source": [
        "def sum_total(my_list):\n",
        "  sum=0\n",
        "  for i in range(0,len(my_list)):\n",
        "    sum=sum+my_list[i]\n",
        "  print(sum)\n",
        "sum_total([1,2,3,4]) "
      ],
      "execution_count": 33,
      "outputs": [
        {
          "output_type": "stream",
          "text": [
            "10\n"
          ],
          "name": "stdout"
        }
      ]
    },
    {
      "cell_type": "code",
      "metadata": {
        "id": "6GW7O6NjYZRO",
        "outputId": "2ddb7ad0-37f1-458e-dfd8-998aa3db0c09",
        "colab": {
          "base_uri": "https://localhost:8080/",
          "height": 34
        }
      },
      "source": [
        "def average(my_list):\n",
        "  sum=0\n",
        "  for i in range(0,len(my_list)):\n",
        "    sum=sum+my_list[i]\n",
        "  avg=sum/len(my_list)\n",
        "  print(avg)\n",
        "average([1,2,3,4])"
      ],
      "execution_count": 37,
      "outputs": [
        {
          "output_type": "stream",
          "text": [
            "2.5\n"
          ],
          "name": "stdout"
        }
      ]
    },
    {
      "cell_type": "code",
      "metadata": {
        "id": "xfcIhGP0ZJ9x",
        "outputId": "6d6e1460-f270-43ce-8383-949fb6d512eb",
        "colab": {
          "base_uri": "https://localhost:8080/",
          "height": 34
        }
      },
      "source": [
        "def length(my_list):\n",
        "  return len(my_list)\n",
        "length([37,2,1,-9])"
      ],
      "execution_count": 41,
      "outputs": [
        {
          "output_type": "execute_result",
          "data": {
            "text/plain": [
              "4"
            ]
          },
          "metadata": {
            "tags": []
          },
          "execution_count": 41
        }
      ]
    },
    {
      "cell_type": "code",
      "metadata": {
        "id": "1wXIUyhnZd0r",
        "outputId": "f81c619d-ac86-49d1-ff11-b68e030e2af4",
        "colab": {
          "base_uri": "https://localhost:8080/",
          "height": 34
        }
      },
      "source": [
        "def minimum(my_list):\n",
        "  min=0\n",
        "  for i in range(0,len(my_list)):\n",
        "    if my_list[i]<min:\n",
        "      min=my_list[i]\n",
        "  print(min)\n",
        "minimum([37,2,1,-9])"
      ],
      "execution_count": 61,
      "outputs": [
        {
          "output_type": "stream",
          "text": [
            "-9\n"
          ],
          "name": "stdout"
        }
      ]
    },
    {
      "cell_type": "code",
      "metadata": {
        "id": "6ZbeSe9kba4e",
        "outputId": "c6968bfa-cc4f-41d5-b847-e52c01bc95f2",
        "colab": {
          "base_uri": "https://localhost:8080/",
          "height": 34
        }
      },
      "source": [
        "def maximum(my_list):\n",
        "  max=0\n",
        "  for i in range(0,len(my_list)):\n",
        "    if my_list[i]>max:\n",
        "      max=my_list[i]\n",
        "  print(max)\n",
        "maximum([37,2,1,-9])"
      ],
      "execution_count": 63,
      "outputs": [
        {
          "output_type": "stream",
          "text": [
            "37\n"
          ],
          "name": "stdout"
        }
      ]
    }
  ]
}