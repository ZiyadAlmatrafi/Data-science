{
  "nbformat": 4,
  "nbformat_minor": 0,
  "metadata": {
    "kernelspec": {
      "display_name": "Python 3",
      "language": "python",
      "name": "python3"
    },
    "language_info": {
      "codemirror_mode": {
        "name": "ipython",
        "version": 3
      },
      "file_extension": ".py",
      "mimetype": "text/x-python",
      "name": "python",
      "nbconvert_exporter": "python",
      "pygments_lexer": "ipython3",
      "version": "3.5.6"
    },
    "colab": {
      "name": "assignment_module_3.ipynb",
      "provenance": []
    }
  },
  "cells": [
    {
      "cell_type": "markdown",
      "metadata": {
        "id": "6c9fsJpqCC2b"
      },
      "source": [
        "### In each cell complete the task using pandas"
      ]
    },
    {
      "cell_type": "code",
      "metadata": {
        "id": "hg_sIkv_CC2e"
      },
      "source": [
        "import pandas as pd\n",
        "import numpy as np"
      ],
      "execution_count": 1,
      "outputs": []
    },
    {
      "cell_type": "code",
      "metadata": {
        "id": "NXW_xid5KoM9"
      },
      "source": [
        ""
      ],
      "execution_count": null,
      "outputs": []
    },
    {
      "cell_type": "markdown",
      "metadata": {
        "id": "3_ohbAJzKhQM"
      },
      "source": [
        ""
      ]
    },
    {
      "cell_type": "markdown",
      "metadata": {
        "id": "BX874lK4CC2s"
      },
      "source": [
        "Read in the titanic.csv file in the `~/data` directory as a pandas dataframe called **df**\n",
        "\n",
        "Or you can also use this link: https://raw.githubusercontent.com/daniel-dc-cd/data_science/master/module_3_Python/data/titanic.csv\n",
        "\n"
      ]
    },
    {
      "cell_type": "code",
      "metadata": {
        "id": "ojgJ3wqUCC2x"
      },
      "source": [
        "df = pd.read_csv(\"https://raw.githubusercontent.com/daniel-dc-cd/data_science/master/module_3_Python/data/titanic.csv\")"
      ],
      "execution_count": 4,
      "outputs": []
    },
    {
      "cell_type": "markdown",
      "metadata": {
        "id": "R8Oq_qrCCC2-"
      },
      "source": [
        "Display the head of the dataframe"
      ]
    },
    {
      "cell_type": "code",
      "metadata": {
        "id": "bjHBkQRtCC3B",
        "outputId": "965c6c4e-1c23-4320-9784-3bd99489a963",
        "colab": {
          "base_uri": "https://localhost:8080/",
          "height": 195
        }
      },
      "source": [
        "df.head()"
      ],
      "execution_count": 5,
      "outputs": [
        {
          "output_type": "execute_result",
          "data": {
            "text/html": [
              "<div>\n",
              "<style scoped>\n",
              "    .dataframe tbody tr th:only-of-type {\n",
              "        vertical-align: middle;\n",
              "    }\n",
              "\n",
              "    .dataframe tbody tr th {\n",
              "        vertical-align: top;\n",
              "    }\n",
              "\n",
              "    .dataframe thead th {\n",
              "        text-align: right;\n",
              "    }\n",
              "</style>\n",
              "<table border=\"1\" class=\"dataframe\">\n",
              "  <thead>\n",
              "    <tr style=\"text-align: right;\">\n",
              "      <th></th>\n",
              "      <th>PassengerId</th>\n",
              "      <th>Survived</th>\n",
              "      <th>Pclass</th>\n",
              "      <th>Name</th>\n",
              "      <th>Sex</th>\n",
              "      <th>Age</th>\n",
              "      <th>SibSp</th>\n",
              "      <th>Parch</th>\n",
              "      <th>Ticket</th>\n",
              "      <th>Fare</th>\n",
              "      <th>Cabin</th>\n",
              "      <th>Embarked</th>\n",
              "    </tr>\n",
              "  </thead>\n",
              "  <tbody>\n",
              "    <tr>\n",
              "      <th>0</th>\n",
              "      <td>1</td>\n",
              "      <td>0</td>\n",
              "      <td>3</td>\n",
              "      <td>Braund, Mr. Owen Harris</td>\n",
              "      <td>male</td>\n",
              "      <td>22.0</td>\n",
              "      <td>1</td>\n",
              "      <td>0</td>\n",
              "      <td>A/5 21171</td>\n",
              "      <td>7.2500</td>\n",
              "      <td>NaN</td>\n",
              "      <td>S</td>\n",
              "    </tr>\n",
              "    <tr>\n",
              "      <th>1</th>\n",
              "      <td>2</td>\n",
              "      <td>1</td>\n",
              "      <td>1</td>\n",
              "      <td>Cumings, Mrs. John Bradley (Florence Briggs Th...</td>\n",
              "      <td>female</td>\n",
              "      <td>38.0</td>\n",
              "      <td>1</td>\n",
              "      <td>0</td>\n",
              "      <td>PC 17599</td>\n",
              "      <td>71.2833</td>\n",
              "      <td>C85</td>\n",
              "      <td>C</td>\n",
              "    </tr>\n",
              "    <tr>\n",
              "      <th>2</th>\n",
              "      <td>3</td>\n",
              "      <td>1</td>\n",
              "      <td>3</td>\n",
              "      <td>Heikkinen, Miss. Laina</td>\n",
              "      <td>female</td>\n",
              "      <td>26.0</td>\n",
              "      <td>0</td>\n",
              "      <td>0</td>\n",
              "      <td>STON/O2. 3101282</td>\n",
              "      <td>7.9250</td>\n",
              "      <td>NaN</td>\n",
              "      <td>S</td>\n",
              "    </tr>\n",
              "    <tr>\n",
              "      <th>3</th>\n",
              "      <td>4</td>\n",
              "      <td>1</td>\n",
              "      <td>1</td>\n",
              "      <td>Futrelle, Mrs. Jacques Heath (Lily May Peel)</td>\n",
              "      <td>female</td>\n",
              "      <td>35.0</td>\n",
              "      <td>1</td>\n",
              "      <td>0</td>\n",
              "      <td>113803</td>\n",
              "      <td>53.1000</td>\n",
              "      <td>C123</td>\n",
              "      <td>S</td>\n",
              "    </tr>\n",
              "    <tr>\n",
              "      <th>4</th>\n",
              "      <td>5</td>\n",
              "      <td>0</td>\n",
              "      <td>3</td>\n",
              "      <td>Allen, Mr. William Henry</td>\n",
              "      <td>male</td>\n",
              "      <td>35.0</td>\n",
              "      <td>0</td>\n",
              "      <td>0</td>\n",
              "      <td>373450</td>\n",
              "      <td>8.0500</td>\n",
              "      <td>NaN</td>\n",
              "      <td>S</td>\n",
              "    </tr>\n",
              "  </tbody>\n",
              "</table>\n",
              "</div>"
            ],
            "text/plain": [
              "   PassengerId  Survived  Pclass  ...     Fare Cabin  Embarked\n",
              "0            1         0       3  ...   7.2500   NaN         S\n",
              "1            2         1       1  ...  71.2833   C85         C\n",
              "2            3         1       3  ...   7.9250   NaN         S\n",
              "3            4         1       1  ...  53.1000  C123         S\n",
              "4            5         0       3  ...   8.0500   NaN         S\n",
              "\n",
              "[5 rows x 12 columns]"
            ]
          },
          "metadata": {
            "tags": []
          },
          "execution_count": 5
        }
      ]
    },
    {
      "cell_type": "markdown",
      "metadata": {
        "id": "ikD3XVZnCC3K"
      },
      "source": [
        "What is the percentage of people who survived? (hint find the mean of the survival column)"
      ]
    },
    {
      "cell_type": "code",
      "metadata": {
        "id": "pd1-RmEtCC3L",
        "outputId": "a3ab8f97-a5e9-4a41-f794-9125ca88da6e",
        "colab": {
          "base_uri": "https://localhost:8080/",
          "height": 34
        }
      },
      "source": [
        "df[\"Survived\"].mean()"
      ],
      "execution_count": 38,
      "outputs": [
        {
          "output_type": "execute_result",
          "data": {
            "text/plain": [
              "0.3838383838383838"
            ]
          },
          "metadata": {
            "tags": []
          },
          "execution_count": 38
        }
      ]
    },
    {
      "cell_type": "markdown",
      "metadata": {
        "id": "XSJLBImrCC3T"
      },
      "source": [
        "How many women and how many men survived?"
      ]
    },
    {
      "cell_type": "code",
      "metadata": {
        "id": "klIyvOTvCC3U",
        "outputId": "f541f255-67d8-4046-f8ec-e4a974c11175",
        "colab": {
          "base_uri": "https://localhost:8080/",
          "height": 195
        }
      },
      "source": [
        "df.groupby(['Sex', 'Survived']).Survived.agg([len])\n"
      ],
      "execution_count": 45,
      "outputs": [
        {
          "output_type": "execute_result",
          "data": {
            "text/html": [
              "<div>\n",
              "<style scoped>\n",
              "    .dataframe tbody tr th:only-of-type {\n",
              "        vertical-align: middle;\n",
              "    }\n",
              "\n",
              "    .dataframe tbody tr th {\n",
              "        vertical-align: top;\n",
              "    }\n",
              "\n",
              "    .dataframe thead th {\n",
              "        text-align: right;\n",
              "    }\n",
              "</style>\n",
              "<table border=\"1\" class=\"dataframe\">\n",
              "  <thead>\n",
              "    <tr style=\"text-align: right;\">\n",
              "      <th></th>\n",
              "      <th></th>\n",
              "      <th>len</th>\n",
              "    </tr>\n",
              "    <tr>\n",
              "      <th>Sex</th>\n",
              "      <th>Survived</th>\n",
              "      <th></th>\n",
              "    </tr>\n",
              "  </thead>\n",
              "  <tbody>\n",
              "    <tr>\n",
              "      <th rowspan=\"2\" valign=\"top\">female</th>\n",
              "      <th>0</th>\n",
              "      <td>81</td>\n",
              "    </tr>\n",
              "    <tr>\n",
              "      <th>1</th>\n",
              "      <td>233</td>\n",
              "    </tr>\n",
              "    <tr>\n",
              "      <th rowspan=\"2\" valign=\"top\">male</th>\n",
              "      <th>0</th>\n",
              "      <td>468</td>\n",
              "    </tr>\n",
              "    <tr>\n",
              "      <th>1</th>\n",
              "      <td>109</td>\n",
              "    </tr>\n",
              "  </tbody>\n",
              "</table>\n",
              "</div>"
            ],
            "text/plain": [
              "                 len\n",
              "Sex    Survived     \n",
              "female 0          81\n",
              "       1         233\n",
              "male   0         468\n",
              "       1         109"
            ]
          },
          "metadata": {
            "tags": []
          },
          "execution_count": 45
        }
      ]
    },
    {
      "cell_type": "code",
      "metadata": {
        "id": "Lm1CUqGpV2eZ",
        "outputId": "6c3e3296-1fea-45d8-f25a-80fd6d13f4fe",
        "colab": {
          "base_uri": "https://localhost:8080/",
          "height": 34
        }
      },
      "source": [
        "male_Survived = df.loc[(df.Survived == 1) & (df.Sex == 'male')]\n",
        "len(male_Survived)"
      ],
      "execution_count": 54,
      "outputs": [
        {
          "output_type": "execute_result",
          "data": {
            "text/plain": [
              "109"
            ]
          },
          "metadata": {
            "tags": []
          },
          "execution_count": 54
        }
      ]
    },
    {
      "cell_type": "markdown",
      "metadata": {
        "id": "KufP8fcFCC3c"
      },
      "source": [
        "What is the percentage of people that survied who paid a fare less than 10?"
      ]
    },
    {
      "cell_type": "code",
      "metadata": {
        "id": "Mjv4JOz1CC3f",
        "outputId": "e88de51d-e8a3-420f-e928-8ba332670dca",
        "colab": {
          "base_uri": "https://localhost:8080/",
          "height": 34
        }
      },
      "source": [
        "df.loc[(df.Survived == 1) & (df.Fare < 10)].Fare.mean()"
      ],
      "execution_count": 85,
      "outputs": [
        {
          "output_type": "execute_result",
          "data": {
            "text/plain": [
              "7.788064179104479"
            ]
          },
          "metadata": {
            "tags": []
          },
          "execution_count": 85
        }
      ]
    },
    {
      "cell_type": "markdown",
      "metadata": {
        "id": "ZjEHLwflCC3m"
      },
      "source": [
        "What is the average age of those who didn't survive?"
      ]
    },
    {
      "cell_type": "code",
      "metadata": {
        "id": "XMSKlPBQCC3n",
        "outputId": "9c3e46d1-1c41-4527-8082-fc7429b999ea",
        "colab": {
          "base_uri": "https://localhost:8080/",
          "height": 34
        }
      },
      "source": [
        "df.loc[(df.Survived == 0)].Age.mean()"
      ],
      "execution_count": 71,
      "outputs": [
        {
          "output_type": "execute_result",
          "data": {
            "text/plain": [
              "30.62617924528302"
            ]
          },
          "metadata": {
            "tags": []
          },
          "execution_count": 71
        }
      ]
    },
    {
      "cell_type": "markdown",
      "metadata": {
        "id": "2VSXhYtRCC3s"
      },
      "source": [
        "What is the average age of those who did survive?"
      ]
    },
    {
      "cell_type": "code",
      "metadata": {
        "id": "VBBADfufCC3w",
        "outputId": "5d312b21-f4b7-4d5b-f7a7-22f6dc3c46cb",
        "colab": {
          "base_uri": "https://localhost:8080/",
          "height": 34
        }
      },
      "source": [
        "df.loc[(df.Survived == 1)].Age.mean()"
      ],
      "execution_count": 72,
      "outputs": [
        {
          "output_type": "execute_result",
          "data": {
            "text/plain": [
              "28.343689655172415"
            ]
          },
          "metadata": {
            "tags": []
          },
          "execution_count": 72
        }
      ]
    },
    {
      "cell_type": "markdown",
      "metadata": {
        "id": "KXOFWFyYCC32"
      },
      "source": [
        "What is the average age of those who did and didn't survive grouped by gender?"
      ]
    },
    {
      "cell_type": "code",
      "metadata": {
        "id": "6Iklsz9zCC33",
        "outputId": "49afd6b1-175d-4db6-afa3-dfa3501faf7b",
        "colab": {
          "base_uri": "https://localhost:8080/",
          "height": 118
        }
      },
      "source": [
        "df.groupby(['Sex', 'Survived']).Age.mean()"
      ],
      "execution_count": 88,
      "outputs": [
        {
          "output_type": "execute_result",
          "data": {
            "text/plain": [
              "Sex     Survived\n",
              "female  0           25.046875\n",
              "        1           28.847716\n",
              "male    0           31.618056\n",
              "        1           27.276022\n",
              "Name: Age, dtype: float64"
            ]
          },
          "metadata": {
            "tags": []
          },
          "execution_count": 88
        }
      ]
    },
    {
      "cell_type": "markdown",
      "metadata": {
        "id": "vqf5OGCiCC38"
      },
      "source": [
        "## Tidy GDP"
      ]
    },
    {
      "cell_type": "markdown",
      "metadata": {
        "id": "hcUYOSgrCC39"
      },
      "source": [
        "Manipulate the GDP.csv file and make it tidy, the result should be a pandas dataframe with the following columns:\n",
        "* Country Name\n",
        "* Country Code\n",
        "* Year\n",
        "* GDP"
      ]
    },
    {
      "cell_type": "markdown",
      "metadata": {
        "id": "6enUYsVHzH-w"
      },
      "source": [
        "Get the data"
      ]
    },
    {
      "cell_type": "code",
      "metadata": {
        "id": "EKLzmZLmCC3_"
      },
      "source": [
        "gdp_data = pd.read_csv('https://raw.githubusercontent.com/daniel-dc-cd/data_science/master/module_3_Python/data/GDP.csv', skiprows=4)"
      ],
      "execution_count": 138,
      "outputs": []
    },
    {
      "cell_type": "markdown",
      "metadata": {
        "id": "AgoD7KCOX-1y"
      },
      "source": [
        "\n",
        "head of the dataframe\n",
        "\n",
        "\n",
        "\n"
      ]
    },
    {
      "cell_type": "code",
      "metadata": {
        "id": "UOs7DHFQXwi0",
        "outputId": "55cb03a0-29f2-410e-9e75-3b757deea2a4",
        "colab": {
          "base_uri": "https://localhost:8080/",
          "height": 400
        }
      },
      "source": [
        "gdp_data.head()"
      ],
      "execution_count": 139,
      "outputs": [
        {
          "output_type": "execute_result",
          "data": {
            "text/html": [
              "<div>\n",
              "<style scoped>\n",
              "    .dataframe tbody tr th:only-of-type {\n",
              "        vertical-align: middle;\n",
              "    }\n",
              "\n",
              "    .dataframe tbody tr th {\n",
              "        vertical-align: top;\n",
              "    }\n",
              "\n",
              "    .dataframe thead th {\n",
              "        text-align: right;\n",
              "    }\n",
              "</style>\n",
              "<table border=\"1\" class=\"dataframe\">\n",
              "  <thead>\n",
              "    <tr style=\"text-align: right;\">\n",
              "      <th></th>\n",
              "      <th>Country Name</th>\n",
              "      <th>Country Code</th>\n",
              "      <th>Indicator Name</th>\n",
              "      <th>Indicator Code</th>\n",
              "      <th>1960</th>\n",
              "      <th>1961</th>\n",
              "      <th>1962</th>\n",
              "      <th>1963</th>\n",
              "      <th>1964</th>\n",
              "      <th>1965</th>\n",
              "      <th>1966</th>\n",
              "      <th>1967</th>\n",
              "      <th>1968</th>\n",
              "      <th>1969</th>\n",
              "      <th>1970</th>\n",
              "      <th>1971</th>\n",
              "      <th>1972</th>\n",
              "      <th>1973</th>\n",
              "      <th>1974</th>\n",
              "      <th>1975</th>\n",
              "      <th>1976</th>\n",
              "      <th>1977</th>\n",
              "      <th>1978</th>\n",
              "      <th>1979</th>\n",
              "      <th>1980</th>\n",
              "      <th>1981</th>\n",
              "      <th>1982</th>\n",
              "      <th>1983</th>\n",
              "      <th>1984</th>\n",
              "      <th>1985</th>\n",
              "      <th>1986</th>\n",
              "      <th>1987</th>\n",
              "      <th>1988</th>\n",
              "      <th>1989</th>\n",
              "      <th>1990</th>\n",
              "      <th>1991</th>\n",
              "      <th>1992</th>\n",
              "      <th>1993</th>\n",
              "      <th>1994</th>\n",
              "      <th>1995</th>\n",
              "      <th>1996</th>\n",
              "      <th>1997</th>\n",
              "      <th>1998</th>\n",
              "      <th>1999</th>\n",
              "      <th>2000</th>\n",
              "      <th>2001</th>\n",
              "      <th>2002</th>\n",
              "      <th>2003</th>\n",
              "      <th>2004</th>\n",
              "      <th>2005</th>\n",
              "      <th>2006</th>\n",
              "      <th>2007</th>\n",
              "      <th>2008</th>\n",
              "      <th>2009</th>\n",
              "      <th>2010</th>\n",
              "      <th>2011</th>\n",
              "      <th>2012</th>\n",
              "      <th>2013</th>\n",
              "      <th>2014</th>\n",
              "      <th>2015</th>\n",
              "      <th>2016</th>\n",
              "      <th>2017</th>\n",
              "      <th>Unnamed: 62</th>\n",
              "    </tr>\n",
              "  </thead>\n",
              "  <tbody>\n",
              "    <tr>\n",
              "      <th>0</th>\n",
              "      <td>Aruba</td>\n",
              "      <td>ABW</td>\n",
              "      <td>GDP (current US$)</td>\n",
              "      <td>NY.GDP.MKTP.CD</td>\n",
              "      <td>NaN</td>\n",
              "      <td>NaN</td>\n",
              "      <td>NaN</td>\n",
              "      <td>NaN</td>\n",
              "      <td>NaN</td>\n",
              "      <td>NaN</td>\n",
              "      <td>NaN</td>\n",
              "      <td>NaN</td>\n",
              "      <td>NaN</td>\n",
              "      <td>NaN</td>\n",
              "      <td>NaN</td>\n",
              "      <td>NaN</td>\n",
              "      <td>NaN</td>\n",
              "      <td>NaN</td>\n",
              "      <td>NaN</td>\n",
              "      <td>NaN</td>\n",
              "      <td>NaN</td>\n",
              "      <td>NaN</td>\n",
              "      <td>NaN</td>\n",
              "      <td>NaN</td>\n",
              "      <td>NaN</td>\n",
              "      <td>NaN</td>\n",
              "      <td>NaN</td>\n",
              "      <td>NaN</td>\n",
              "      <td>NaN</td>\n",
              "      <td>NaN</td>\n",
              "      <td>NaN</td>\n",
              "      <td>NaN</td>\n",
              "      <td>NaN</td>\n",
              "      <td>NaN</td>\n",
              "      <td>NaN</td>\n",
              "      <td>NaN</td>\n",
              "      <td>NaN</td>\n",
              "      <td>NaN</td>\n",
              "      <td>1.330168e+09</td>\n",
              "      <td>1.320670e+09</td>\n",
              "      <td>1.379888e+09</td>\n",
              "      <td>1.531844e+09</td>\n",
              "      <td>1.665363e+09</td>\n",
              "      <td>1.722799e+09</td>\n",
              "      <td>1.873453e+09</td>\n",
              "      <td>1.920263e+09</td>\n",
              "      <td>1.941095e+09</td>\n",
              "      <td>2.021302e+09</td>\n",
              "      <td>2.228279e+09</td>\n",
              "      <td>2.331006e+09</td>\n",
              "      <td>2.421475e+09</td>\n",
              "      <td>2.623726e+09</td>\n",
              "      <td>2.791961e+09</td>\n",
              "      <td>2.498933e+09</td>\n",
              "      <td>2.467704e+09</td>\n",
              "      <td>2.584464e+09</td>\n",
              "      <td>NaN</td>\n",
              "      <td>NaN</td>\n",
              "      <td>NaN</td>\n",
              "      <td>NaN</td>\n",
              "      <td>NaN</td>\n",
              "      <td>NaN</td>\n",
              "      <td>NaN</td>\n",
              "    </tr>\n",
              "    <tr>\n",
              "      <th>1</th>\n",
              "      <td>Afghanistan</td>\n",
              "      <td>AFG</td>\n",
              "      <td>GDP (current US$)</td>\n",
              "      <td>NY.GDP.MKTP.CD</td>\n",
              "      <td>5.377778e+08</td>\n",
              "      <td>5.488889e+08</td>\n",
              "      <td>5.466667e+08</td>\n",
              "      <td>7.511112e+08</td>\n",
              "      <td>8.000000e+08</td>\n",
              "      <td>1.006667e+09</td>\n",
              "      <td>1.400000e+09</td>\n",
              "      <td>1.673333e+09</td>\n",
              "      <td>1.373333e+09</td>\n",
              "      <td>1.408889e+09</td>\n",
              "      <td>1.748887e+09</td>\n",
              "      <td>1.831109e+09</td>\n",
              "      <td>1.595555e+09</td>\n",
              "      <td>1.733333e+09</td>\n",
              "      <td>2.155555e+09</td>\n",
              "      <td>2.366667e+09</td>\n",
              "      <td>2.555556e+09</td>\n",
              "      <td>2.953333e+09</td>\n",
              "      <td>3.300000e+09</td>\n",
              "      <td>3.697940e+09</td>\n",
              "      <td>3.641723e+09</td>\n",
              "      <td>3.478788e+09</td>\n",
              "      <td>NaN</td>\n",
              "      <td>NaN</td>\n",
              "      <td>NaN</td>\n",
              "      <td>NaN</td>\n",
              "      <td>NaN</td>\n",
              "      <td>NaN</td>\n",
              "      <td>NaN</td>\n",
              "      <td>NaN</td>\n",
              "      <td>NaN</td>\n",
              "      <td>NaN</td>\n",
              "      <td>NaN</td>\n",
              "      <td>NaN</td>\n",
              "      <td>NaN</td>\n",
              "      <td>NaN</td>\n",
              "      <td>NaN</td>\n",
              "      <td>NaN</td>\n",
              "      <td>NaN</td>\n",
              "      <td>NaN</td>\n",
              "      <td>NaN</td>\n",
              "      <td>2.461666e+09</td>\n",
              "      <td>4.128821e+09</td>\n",
              "      <td>4.583644e+09</td>\n",
              "      <td>5.285466e+09</td>\n",
              "      <td>6.275074e+09</td>\n",
              "      <td>7.057598e+09</td>\n",
              "      <td>9.843842e+09</td>\n",
              "      <td>1.019053e+10</td>\n",
              "      <td>1.248694e+10</td>\n",
              "      <td>1.593680e+10</td>\n",
              "      <td>1.793024e+10</td>\n",
              "      <td>2.053654e+10</td>\n",
              "      <td>2.026425e+10</td>\n",
              "      <td>2.061610e+10</td>\n",
              "      <td>1.921556e+10</td>\n",
              "      <td>1.946902e+10</td>\n",
              "      <td>2.081530e+10</td>\n",
              "      <td>NaN</td>\n",
              "    </tr>\n",
              "    <tr>\n",
              "      <th>2</th>\n",
              "      <td>Angola</td>\n",
              "      <td>AGO</td>\n",
              "      <td>GDP (current US$)</td>\n",
              "      <td>NY.GDP.MKTP.CD</td>\n",
              "      <td>NaN</td>\n",
              "      <td>NaN</td>\n",
              "      <td>NaN</td>\n",
              "      <td>NaN</td>\n",
              "      <td>NaN</td>\n",
              "      <td>NaN</td>\n",
              "      <td>NaN</td>\n",
              "      <td>NaN</td>\n",
              "      <td>NaN</td>\n",
              "      <td>NaN</td>\n",
              "      <td>NaN</td>\n",
              "      <td>NaN</td>\n",
              "      <td>NaN</td>\n",
              "      <td>NaN</td>\n",
              "      <td>NaN</td>\n",
              "      <td>NaN</td>\n",
              "      <td>NaN</td>\n",
              "      <td>NaN</td>\n",
              "      <td>NaN</td>\n",
              "      <td>NaN</td>\n",
              "      <td>5.930503e+09</td>\n",
              "      <td>5.550483e+09</td>\n",
              "      <td>5.550483e+09</td>\n",
              "      <td>5.784342e+09</td>\n",
              "      <td>6.131475e+09</td>\n",
              "      <td>7.553560e+09</td>\n",
              "      <td>7.072063e+09</td>\n",
              "      <td>8.083872e+09</td>\n",
              "      <td>8.769251e+09</td>\n",
              "      <td>1.020110e+10</td>\n",
              "      <td>1.122876e+10</td>\n",
              "      <td>1.060378e+10</td>\n",
              "      <td>8.307811e+09</td>\n",
              "      <td>5.768720e+09</td>\n",
              "      <td>4.438321e+09</td>\n",
              "      <td>5.538749e+09</td>\n",
              "      <td>7.526447e+09</td>\n",
              "      <td>7.648377e+09</td>\n",
              "      <td>6.506230e+09</td>\n",
              "      <td>6.152923e+09</td>\n",
              "      <td>9.129595e+09</td>\n",
              "      <td>8.936064e+09</td>\n",
              "      <td>1.249735e+10</td>\n",
              "      <td>1.418895e+10</td>\n",
              "      <td>1.964085e+10</td>\n",
              "      <td>2.823371e+10</td>\n",
              "      <td>4.178948e+10</td>\n",
              "      <td>6.044892e+10</td>\n",
              "      <td>8.417804e+10</td>\n",
              "      <td>7.549239e+10</td>\n",
              "      <td>8.252614e+10</td>\n",
              "      <td>1.041158e+11</td>\n",
              "      <td>1.139232e+11</td>\n",
              "      <td>1.249125e+11</td>\n",
              "      <td>1.267302e+11</td>\n",
              "      <td>1.026212e+11</td>\n",
              "      <td>9.533720e+10</td>\n",
              "      <td>1.242094e+11</td>\n",
              "      <td>NaN</td>\n",
              "    </tr>\n",
              "    <tr>\n",
              "      <th>3</th>\n",
              "      <td>Albania</td>\n",
              "      <td>ALB</td>\n",
              "      <td>GDP (current US$)</td>\n",
              "      <td>NY.GDP.MKTP.CD</td>\n",
              "      <td>NaN</td>\n",
              "      <td>NaN</td>\n",
              "      <td>NaN</td>\n",
              "      <td>NaN</td>\n",
              "      <td>NaN</td>\n",
              "      <td>NaN</td>\n",
              "      <td>NaN</td>\n",
              "      <td>NaN</td>\n",
              "      <td>NaN</td>\n",
              "      <td>NaN</td>\n",
              "      <td>NaN</td>\n",
              "      <td>NaN</td>\n",
              "      <td>NaN</td>\n",
              "      <td>NaN</td>\n",
              "      <td>NaN</td>\n",
              "      <td>NaN</td>\n",
              "      <td>NaN</td>\n",
              "      <td>NaN</td>\n",
              "      <td>NaN</td>\n",
              "      <td>NaN</td>\n",
              "      <td>NaN</td>\n",
              "      <td>NaN</td>\n",
              "      <td>NaN</td>\n",
              "      <td>NaN</td>\n",
              "      <td>1.924242e+09</td>\n",
              "      <td>1.965385e+09</td>\n",
              "      <td>2.173750e+09</td>\n",
              "      <td>2.156625e+09</td>\n",
              "      <td>2.126000e+09</td>\n",
              "      <td>2.335125e+09</td>\n",
              "      <td>2.101625e+09</td>\n",
              "      <td>1.139167e+09</td>\n",
              "      <td>7.094526e+08</td>\n",
              "      <td>1.228071e+09</td>\n",
              "      <td>1.985674e+09</td>\n",
              "      <td>2.424499e+09</td>\n",
              "      <td>3.314898e+09</td>\n",
              "      <td>2.359903e+09</td>\n",
              "      <td>2.707124e+09</td>\n",
              "      <td>3.414761e+09</td>\n",
              "      <td>3.632044e+09</td>\n",
              "      <td>4.060759e+09</td>\n",
              "      <td>4.435079e+09</td>\n",
              "      <td>5.746946e+09</td>\n",
              "      <td>7.314865e+09</td>\n",
              "      <td>8.158549e+09</td>\n",
              "      <td>8.992642e+09</td>\n",
              "      <td>1.070101e+10</td>\n",
              "      <td>1.288135e+10</td>\n",
              "      <td>1.204421e+10</td>\n",
              "      <td>1.192695e+10</td>\n",
              "      <td>1.289087e+10</td>\n",
              "      <td>1.231978e+10</td>\n",
              "      <td>1.277628e+10</td>\n",
              "      <td>1.322824e+10</td>\n",
              "      <td>1.138693e+10</td>\n",
              "      <td>1.188368e+10</td>\n",
              "      <td>1.303935e+10</td>\n",
              "      <td>NaN</td>\n",
              "    </tr>\n",
              "    <tr>\n",
              "      <th>4</th>\n",
              "      <td>Andorra</td>\n",
              "      <td>AND</td>\n",
              "      <td>GDP (current US$)</td>\n",
              "      <td>NY.GDP.MKTP.CD</td>\n",
              "      <td>NaN</td>\n",
              "      <td>NaN</td>\n",
              "      <td>NaN</td>\n",
              "      <td>NaN</td>\n",
              "      <td>NaN</td>\n",
              "      <td>NaN</td>\n",
              "      <td>NaN</td>\n",
              "      <td>NaN</td>\n",
              "      <td>NaN</td>\n",
              "      <td>NaN</td>\n",
              "      <td>7.861921e+07</td>\n",
              "      <td>8.940982e+07</td>\n",
              "      <td>1.134082e+08</td>\n",
              "      <td>1.508201e+08</td>\n",
              "      <td>1.865587e+08</td>\n",
              "      <td>2.201272e+08</td>\n",
              "      <td>2.272810e+08</td>\n",
              "      <td>2.540202e+08</td>\n",
              "      <td>3.080089e+08</td>\n",
              "      <td>4.115783e+08</td>\n",
              "      <td>4.464161e+08</td>\n",
              "      <td>3.889587e+08</td>\n",
              "      <td>3.758960e+08</td>\n",
              "      <td>3.278618e+08</td>\n",
              "      <td>3.300707e+08</td>\n",
              "      <td>3.467380e+08</td>\n",
              "      <td>4.820006e+08</td>\n",
              "      <td>6.113164e+08</td>\n",
              "      <td>7.214259e+08</td>\n",
              "      <td>7.954493e+08</td>\n",
              "      <td>1.029048e+09</td>\n",
              "      <td>1.106929e+09</td>\n",
              "      <td>1.210014e+09</td>\n",
              "      <td>1.007026e+09</td>\n",
              "      <td>1.017549e+09</td>\n",
              "      <td>1.178739e+09</td>\n",
              "      <td>1.223945e+09</td>\n",
              "      <td>1.180597e+09</td>\n",
              "      <td>1.211932e+09</td>\n",
              "      <td>1.239876e+09</td>\n",
              "      <td>1.434430e+09</td>\n",
              "      <td>1.496913e+09</td>\n",
              "      <td>1.733117e+09</td>\n",
              "      <td>2.398646e+09</td>\n",
              "      <td>2.935659e+09</td>\n",
              "      <td>3.255789e+09</td>\n",
              "      <td>3.543257e+09</td>\n",
              "      <td>4.016972e+09</td>\n",
              "      <td>4.007353e+09</td>\n",
              "      <td>3.660531e+09</td>\n",
              "      <td>3.355695e+09</td>\n",
              "      <td>3.442063e+09</td>\n",
              "      <td>3.164615e+09</td>\n",
              "      <td>3.281585e+09</td>\n",
              "      <td>3.350736e+09</td>\n",
              "      <td>2.811489e+09</td>\n",
              "      <td>2.877312e+09</td>\n",
              "      <td>3.012914e+09</td>\n",
              "      <td>NaN</td>\n",
              "    </tr>\n",
              "  </tbody>\n",
              "</table>\n",
              "</div>"
            ],
            "text/plain": [
              "  Country Name Country Code  ...          2017 Unnamed: 62\n",
              "0        Aruba          ABW  ...           NaN         NaN\n",
              "1  Afghanistan          AFG  ...  2.081530e+10         NaN\n",
              "2       Angola          AGO  ...  1.242094e+11         NaN\n",
              "3      Albania          ALB  ...  1.303935e+10         NaN\n",
              "4      Andorra          AND  ...  3.012914e+09         NaN\n",
              "\n",
              "[5 rows x 63 columns]"
            ]
          },
          "metadata": {
            "tags": []
          },
          "execution_count": 139
        }
      ]
    },
    {
      "cell_type": "markdown",
      "metadata": {
        "id": "M7cT1tl9n6xo"
      },
      "source": [
        "Remove unwanted columns\n",
        "\n"
      ]
    },
    {
      "cell_type": "code",
      "metadata": {
        "id": "nQZIlFIkmaIH"
      },
      "source": [
        "gdp_data = gdp_data.drop(columns=['Indicator Name', 'Indicator Code', 'Unnamed: 62'])"
      ],
      "execution_count": 140,
      "outputs": []
    },
    {
      "cell_type": "markdown",
      "metadata": {
        "id": "P78NIdNpzLmw"
      },
      "source": [
        "Melt the DataFrame from wide to long format"
      ]
    },
    {
      "cell_type": "code",
      "metadata": {
        "id": "NHz3BfUIrZKU"
      },
      "source": [
        "gdp_data = gdp_data.melt(id_vars=['Country Name', 'Country Code'], var_name='Year', value_name='GDP')"
      ],
      "execution_count": 141,
      "outputs": []
    },
    {
      "cell_type": "markdown",
      "metadata": {
        "id": "vNal5mIqzNUe"
      },
      "source": [
        "Drop missing values\n"
      ]
    },
    {
      "cell_type": "code",
      "metadata": {
        "id": "Knj96gpvxO6c"
      },
      "source": [
        "gdp_data = gdp_data.dropna()"
      ],
      "execution_count": 142,
      "outputs": []
    },
    {
      "cell_type": "code",
      "metadata": {
        "id": "u_CudgC6x3Ab",
        "outputId": "ec92a0d7-5401-4670-a08b-91ca2d7eae2a",
        "colab": {
          "base_uri": "https://localhost:8080/",
          "height": 402
        }
      },
      "source": [
        "gdp_data"
      ],
      "execution_count": 143,
      "outputs": [
        {
          "output_type": "execute_result",
          "data": {
            "text/html": [
              "<div>\n",
              "<style scoped>\n",
              "    .dataframe tbody tr th:only-of-type {\n",
              "        vertical-align: middle;\n",
              "    }\n",
              "\n",
              "    .dataframe tbody tr th {\n",
              "        vertical-align: top;\n",
              "    }\n",
              "\n",
              "    .dataframe thead th {\n",
              "        text-align: right;\n",
              "    }\n",
              "</style>\n",
              "<table border=\"1\" class=\"dataframe\">\n",
              "  <thead>\n",
              "    <tr style=\"text-align: right;\">\n",
              "      <th></th>\n",
              "      <th>Country Name</th>\n",
              "      <th>Country Code</th>\n",
              "      <th>Year</th>\n",
              "      <th>GDP</th>\n",
              "    </tr>\n",
              "  </thead>\n",
              "  <tbody>\n",
              "    <tr>\n",
              "      <th>1</th>\n",
              "      <td>Afghanistan</td>\n",
              "      <td>AFG</td>\n",
              "      <td>1960</td>\n",
              "      <td>5.377778e+08</td>\n",
              "    </tr>\n",
              "    <tr>\n",
              "      <th>11</th>\n",
              "      <td>Australia</td>\n",
              "      <td>AUS</td>\n",
              "      <td>1960</td>\n",
              "      <td>1.857319e+10</td>\n",
              "    </tr>\n",
              "    <tr>\n",
              "      <th>12</th>\n",
              "      <td>Austria</td>\n",
              "      <td>AUT</td>\n",
              "      <td>1960</td>\n",
              "      <td>6.592694e+09</td>\n",
              "    </tr>\n",
              "    <tr>\n",
              "      <th>14</th>\n",
              "      <td>Burundi</td>\n",
              "      <td>BDI</td>\n",
              "      <td>1960</td>\n",
              "      <td>1.960000e+08</td>\n",
              "    </tr>\n",
              "    <tr>\n",
              "      <th>15</th>\n",
              "      <td>Belgium</td>\n",
              "      <td>BEL</td>\n",
              "      <td>1960</td>\n",
              "      <td>1.165872e+10</td>\n",
              "    </tr>\n",
              "    <tr>\n",
              "      <th>...</th>\n",
              "      <td>...</td>\n",
              "      <td>...</td>\n",
              "      <td>...</td>\n",
              "      <td>...</td>\n",
              "    </tr>\n",
              "    <tr>\n",
              "      <th>15306</th>\n",
              "      <td>Samoa</td>\n",
              "      <td>WSM</td>\n",
              "      <td>2017</td>\n",
              "      <td>8.566265e+08</td>\n",
              "    </tr>\n",
              "    <tr>\n",
              "      <th>15307</th>\n",
              "      <td>Kosovo</td>\n",
              "      <td>XKX</td>\n",
              "      <td>2017</td>\n",
              "      <td>7.128691e+09</td>\n",
              "    </tr>\n",
              "    <tr>\n",
              "      <th>15309</th>\n",
              "      <td>South Africa</td>\n",
              "      <td>ZAF</td>\n",
              "      <td>2017</td>\n",
              "      <td>3.494193e+11</td>\n",
              "    </tr>\n",
              "    <tr>\n",
              "      <th>15310</th>\n",
              "      <td>Zambia</td>\n",
              "      <td>ZMB</td>\n",
              "      <td>2017</td>\n",
              "      <td>2.580867e+10</td>\n",
              "    </tr>\n",
              "    <tr>\n",
              "      <th>15311</th>\n",
              "      <td>Zimbabwe</td>\n",
              "      <td>ZWE</td>\n",
              "      <td>2017</td>\n",
              "      <td>1.784582e+10</td>\n",
              "    </tr>\n",
              "  </tbody>\n",
              "</table>\n",
              "<p>11777 rows × 4 columns</p>\n",
              "</div>"
            ],
            "text/plain": [
              "       Country Name Country Code  Year           GDP\n",
              "1       Afghanistan          AFG  1960  5.377778e+08\n",
              "11        Australia          AUS  1960  1.857319e+10\n",
              "12          Austria          AUT  1960  6.592694e+09\n",
              "14          Burundi          BDI  1960  1.960000e+08\n",
              "15          Belgium          BEL  1960  1.165872e+10\n",
              "...             ...          ...   ...           ...\n",
              "15306         Samoa          WSM  2017  8.566265e+08\n",
              "15307        Kosovo          XKX  2017  7.128691e+09\n",
              "15309  South Africa          ZAF  2017  3.494193e+11\n",
              "15310        Zambia          ZMB  2017  2.580867e+10\n",
              "15311      Zimbabwe          ZWE  2017  1.784582e+10\n",
              "\n",
              "[11777 rows x 4 columns]"
            ]
          },
          "metadata": {
            "tags": []
          },
          "execution_count": 143
        }
      ]
    }
  ]
}