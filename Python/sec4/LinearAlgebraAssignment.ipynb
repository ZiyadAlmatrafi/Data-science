{
  "nbformat": 4,
  "nbformat_minor": 0,
  "metadata": {
    "colab": {
      "name": "LinearAlgebraAssignment.ipynb",
      "provenance": [],
      "collapsed_sections": [],
      "authorship_tag": "ABX9TyM3q3JzKTZcIyJMdkji9KrZ"
    },
    "kernelspec": {
      "name": "python3",
      "display_name": "Python 3"
    }
  },
  "cells": [
    {
      "cell_type": "code",
      "metadata": {
        "id": "Z7TzJHxvjMgi",
        "outputId": "e8639a6f-f6c2-426d-ac18-2b9895e87156",
        "colab": {
          "base_uri": "https://localhost:8080/",
          "height": 34
        }
      },
      "source": [
        "## Linear Algebra Assignment\n",
        "import numpy as np\n",
        "#1\n",
        "A = np.array([[3,5],[7,-5]])\n",
        "\n",
        "b = np.array([6,9])\n",
        "x = np.linalg.solve(A, b)\n",
        "x"
      ],
      "execution_count": 18,
      "outputs": [
        {
          "output_type": "execute_result",
          "data": {
            "text/plain": [
              "array([1.5, 0.3])"
            ]
          },
          "metadata": {
            "tags": []
          },
          "execution_count": 18
        }
      ]
    },
    {
      "cell_type": "code",
      "metadata": {
        "id": "L-1umSxQp9PG",
        "outputId": "783dd0ce-25d3-4e47-cf3f-190c86cedea9",
        "colab": {
          "base_uri": "https://localhost:8080/",
          "height": 34
        }
      },
      "source": [
        "#2\n",
        "A = np.array([[1,1,1],\n",
        "              [0,1,1],\n",
        "              [2,5,-1]])\n",
        "\n",
        "b = np.array([6,-4,27])\n",
        "x = np.linalg.solve(A, b)\n",
        "x"
      ],
      "execution_count": 40,
      "outputs": [
        {
          "output_type": "execute_result",
          "data": {
            "text/plain": [
              "array([10. ,  0.5, -4.5])"
            ]
          },
          "metadata": {
            "tags": []
          },
          "execution_count": 40
        }
      ]
    },
    {
      "cell_type": "code",
      "metadata": {
        "id": "Ic8ZL23ooJhe"
      },
      "source": [
        "#3\n",
        "A = np.array([[1,1],\n",
        "              [2,2]])\n",
        "\n",
        "b = np.array([4,8])\n",
        "x = np.linalg.solve(A, b)\n",
        "x\n",
        "\n",
        "#Error Singular matrix:is not invertible because its determinant is zero "
      ],
      "execution_count": null,
      "outputs": []
    }
  ]
}