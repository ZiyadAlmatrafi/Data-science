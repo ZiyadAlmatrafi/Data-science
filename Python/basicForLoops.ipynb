{
  "nbformat": 4,
  "nbformat_minor": 0,
  "metadata": {
    "colab": {
      "name": "basicForLoops.ipynb",
      "provenance": [],
      "authorship_tag": "ABX9TyOAMZgsw7gweEM9h0rS3WRH",
      "include_colab_link": true
    },
    "kernelspec": {
      "name": "python3",
      "display_name": "Python 3"
    }
  },
  "cells": [
    {
      "cell_type": "markdown",
      "metadata": {
        "id": "view-in-github",
        "colab_type": "text"
      },
      "source": [
        "<a href=\"https://colab.research.google.com/github/ZiyadAlmatrafi/Data-science/blob/master/basicForLoops.ipynb\" target=\"_parent\"><img src=\"https://colab.research.google.com/assets/colab-badge.svg\" alt=\"Open In Colab\"/></a>"
      ]
    },
    {
      "cell_type": "code",
      "metadata": {
        "id": "MV3dSrnTG65Y"
      },
      "source": [
        "#1.Basic\n",
        "for i in range(0,151,1):\n",
        "  print(i)"
      ],
      "execution_count": null,
      "outputs": []
    },
    {
      "cell_type": "code",
      "metadata": {
        "id": "_fH40TFvmpTl"
      },
      "source": [
        "#2.Multiples of Five\n",
        "for i in range(5,1001,5):\n",
        "  print(i)"
      ],
      "execution_count": null,
      "outputs": []
    },
    {
      "cell_type": "code",
      "metadata": {
        "id": "ueCFKCh9nUO9",
        "outputId": "d35f650d-9149-4894-99fb-1768247f6833",
        "colab": {
          "base_uri": "https://localhost:8080/",
          "height": 527
        }
      },
      "source": [
        "#3.Counting, the Dojo Way\n",
        "for i in range(1,101):\n",
        "  if i % 5 == 0:\n",
        "    print(str(i)+\" Coding\")\n",
        "  if i % 10 == 0:\n",
        "    print(str(i)+\" Coding dojo\")\n",
        "  \n",
        "  "
      ],
      "execution_count": 52,
      "outputs": [
        {
          "output_type": "stream",
          "text": [
            "5 Coding\n",
            "10 Coding\n",
            "10 Coding dojo\n",
            "15 Coding\n",
            "20 Coding\n",
            "20 Coding dojo\n",
            "25 Coding\n",
            "30 Coding\n",
            "30 Coding dojo\n",
            "35 Coding\n",
            "40 Coding\n",
            "40 Coding dojo\n",
            "45 Coding\n",
            "50 Coding\n",
            "50 Coding dojo\n",
            "55 Coding\n",
            "60 Coding\n",
            "60 Coding dojo\n",
            "65 Coding\n",
            "70 Coding\n",
            "70 Coding dojo\n",
            "75 Coding\n",
            "80 Coding\n",
            "80 Coding dojo\n",
            "85 Coding\n",
            "90 Coding\n",
            "90 Coding dojo\n",
            "95 Coding\n",
            "100 Coding\n",
            "100 Coding dojo\n"
          ],
          "name": "stdout"
        }
      ]
    },
    {
      "cell_type": "code",
      "metadata": {
        "id": "fJ5Ec7E-peoA",
        "outputId": "eab0ec5e-1036-4537-d127-729011388ece",
        "colab": {
          "base_uri": "https://localhost:8080/",
          "height": 34
        }
      },
      "source": [
        "#4Whoa. That Sucker's Huge\n",
        "sum= 0\n",
        "for i in range(0,500001):\n",
        "  sum = sum+i\n",
        "print(sum)"
      ],
      "execution_count": null,
      "outputs": [
        {
          "output_type": "stream",
          "text": [
            "125000250000\n"
          ],
          "name": "stdout"
        }
      ]
    },
    {
      "cell_type": "code",
      "metadata": {
        "id": "vPqQueG7qThH"
      },
      "source": [
        "#5.Countdown by Fours\n",
        "\n",
        "for i in range(2018,0,-4):\n",
        "  print(i)\n"
      ],
      "execution_count": null,
      "outputs": []
    },
    {
      "cell_type": "code",
      "metadata": {
        "id": "1zZT6Gc7rgAQ",
        "outputId": "f67d2aef-a540-479c-af52-92d634be0f5d",
        "colab": {
          "base_uri": "https://localhost:8080/",
          "height": 34
        }
      },
      "source": [
        "#6.Flexible Counter\n",
        "lowNum=2\n",
        "highNum=9\n",
        "mult=3\n",
        "for i in range(lowNum,highNum+1):\n",
        "  if i % mult==0:\n",
        "    print(i, end=' ')"
      ],
      "execution_count": 31,
      "outputs": [
        {
          "output_type": "stream",
          "text": [
            "3 6 9 "
          ],
          "name": "stdout"
        }
      ]
    }
  ]
}
