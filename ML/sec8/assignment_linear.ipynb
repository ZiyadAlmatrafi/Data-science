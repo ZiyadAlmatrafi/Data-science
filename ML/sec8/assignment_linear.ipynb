{
  "nbformat": 4,
  "nbformat_minor": 0,
  "metadata": {
    "kernelspec": {
      "display_name": "Python 3",
      "language": "python",
      "name": "python3"
    },
    "language_info": {
      "codemirror_mode": {
        "name": "ipython",
        "version": 3
      },
      "file_extension": ".py",
      "mimetype": "text/x-python",
      "name": "python",
      "nbconvert_exporter": "python",
      "pygments_lexer": "ipython3",
      "version": "3.5.6"
    },
    "colab": {
      "name": "assignment_linear.ipynb",
      "provenance": [],
      "include_colab_link": true
    }
  },
  "cells": [
    {
      "cell_type": "markdown",
      "metadata": {
        "id": "view-in-github",
        "colab_type": "text"
      },
      "source": [
        "<a href=\"https://colab.research.google.com/github/ZiyadAlmatrafi/Data-science/blob/master/ML/sec8/assignment_linear.ipynb\" target=\"_parent\"><img src=\"https://colab.research.google.com/assets/colab-badge.svg\" alt=\"Open In Colab\"/></a>"
      ]
    },
    {
      "cell_type": "markdown",
      "metadata": {
        "id": "JJOWxxwk5cnJ"
      },
      "source": [
        "### Linear Regression\n",
        "Using the same seattle weather data as last chapter develop a linear regression model"
      ]
    },
    {
      "cell_type": "code",
      "metadata": {
        "id": "h_W05Qu-5cnJ"
      },
      "source": [
        "#import the pakcages that we will need\n",
        "import pandas as pd\n",
        "import matplotlib.pyplot as plt\n",
        "import seaborn as sns\n",
        "import numpy as np\n",
        "\n",
        "df = pd.read_csv('https://raw.githubusercontent.com/daniel-dc-cd/data_science/master/module_4_ML/data/seattle_weather_1948-2017.csv')\n",
        "\n",
        "numrows = 25549 # can be as large as 25549\n",
        "\n",
        "#create an empty dataframe to hold values\n",
        "regression_df = pd.DataFrame({'intercept':[1] * numrows,\n",
        "                             'today':[0.0] * numrows,\n",
        "                             'tomorrow':[0.0] * numrows})\n",
        "\n",
        "#sort columns for convience\n",
        "seq = ['intercept',\n",
        "       'today',\n",
        "       'tomorrow']\n",
        "regression_df = regression_df.reindex(columns=seq)"
      ],
      "execution_count": 1,
      "outputs": []
    },
    {
      "cell_type": "code",
      "metadata": {
        "id": "RepgO6q15cnJ"
      },
      "source": [
        "for i in range(0 , numrows):\n",
        "    tomorrow = df.iloc[i,1]\n",
        "    today = df.iloc[(i-1),1]\n",
        "    regression_df.iat[i,2] = tomorrow\n",
        "    regression_df.iat[i,1] = today\n",
        "\n",
        "regression_df = regression_df.dropna() #exclude any rows with missing data"
      ],
      "execution_count": 2,
      "outputs": []
    },
    {
      "cell_type": "code",
      "metadata": {
        "colab": {
          "base_uri": "https://localhost:8080/"
        },
        "id": "b_Dgu-Fl5cnJ",
        "outputId": "fe5f3276-834d-408a-b32c-be4aa6ab2b25"
      },
      "source": [
        "#this makes a simple dataframe with a relationship that we can now plot\n",
        "regression_df.describe"
      ],
      "execution_count": 3,
      "outputs": [
        {
          "output_type": "execute_result",
          "data": {
            "text/plain": [
              "<bound method NDFrame.describe of        intercept  today  tomorrow\n",
              "0              1   0.00      0.47\n",
              "1              1   0.47      0.59\n",
              "2              1   0.59      0.42\n",
              "3              1   0.42      0.31\n",
              "4              1   0.31      0.17\n",
              "...          ...    ...       ...\n",
              "25544          1   0.00      0.00\n",
              "25545          1   0.00      0.00\n",
              "25546          1   0.00      0.00\n",
              "25547          1   0.00      0.00\n",
              "25548          1   0.00      0.00\n",
              "\n",
              "[25544 rows x 3 columns]>"
            ]
          },
          "metadata": {
            "tags": []
          },
          "execution_count": 3
        }
      ]
    },
    {
      "cell_type": "code",
      "metadata": {
        "colab": {
          "base_uri": "https://localhost:8080/",
          "height": 297
        },
        "id": "aX7FfHSQ5cnJ",
        "outputId": "f89602bf-44ef-4cf5-f67c-ca0bf27bf11b"
      },
      "source": [
        "sns.scatterplot(x='today',y='tomorrow',data=regression_df)"
      ],
      "execution_count": 4,
      "outputs": [
        {
          "output_type": "execute_result",
          "data": {
            "text/plain": [
              "<matplotlib.axes._subplots.AxesSubplot at 0x7f2f55a23390>"
            ]
          },
          "metadata": {
            "tags": []
          },
          "execution_count": 4
        },
        {
          "output_type": "display_data",
          "data": {
            "image/png": "[encoded data removed]",
            "text/plain": [
              "<Figure size 432x288 with 1 Axes>"
            ]
          },
          "metadata": {
            "tags": [],
            "needs_background": "light"
          }
        }
      ]
    },
    {
      "cell_type": "markdown",
      "metadata": {
        "id": "cqGYxJZy5cnJ"
      },
      "source": [
        "Creating a basic linear model to best predict these values. Start with a slope and intercept values of 1 and then iterate through gradient descent."
      ]
    },
    {
      "cell_type": "code",
      "metadata": {
        "id": "KU3axaiz5cnJ"
      },
      "source": [
        "def gradientDescent(X, y, param, alpha, num_iters):\n",
        "    \"\"\"\n",
        "       Performs gradient descent to learn param\n",
        "    \"\"\"\n",
        "    for i in range(num_iters):\n",
        "        y_hat = np.dot(X, param) # notice we use numpy here to efficently calculate the values\n",
        "        param = param - alpha * np.dot(X.T, y_hat-y)\n",
        "    return param"
      ],
      "execution_count": 5,
      "outputs": []
    },
    {
      "cell_type": "markdown",
      "metadata": {
        "id": "rdM0Ky-R5cnJ"
      },
      "source": [
        "In this fucntion *param* is the initial guess of the values of the linear function and \n",
        "*X* is the vector of data values and y is the realization"
      ]
    },
    {
      "cell_type": "code",
      "metadata": {
        "colab": {
          "base_uri": "https://localhost:8080/"
        },
        "id": "2OLXE6bO5cnJ",
        "outputId": "2d2bf043-3e64-4651-8e91-a92c79c5762b"
      },
      "source": [
        "X = regression_df.iloc[0:200:,0:2]\n",
        "y = regression_df.iloc[0:200:,2]\n",
        "param = np.array([1,1])\n",
        "alpha = 0.0001\n",
        "num_iters = 1000\n",
        "\n",
        "solution = gradientDescent(X, y, param, alpha, num_iters)\n",
        "solution"
      ],
      "execution_count": 6,
      "outputs": [
        {
          "output_type": "execute_result",
          "data": {
            "text/plain": [
              "array([0.08116008, 0.33987798])"
            ]
          },
          "metadata": {
            "tags": []
          },
          "execution_count": 6
        }
      ]
    },
    {
      "cell_type": "code",
      "metadata": {
        "colab": {
          "base_uri": "https://localhost:8080/",
          "height": 459
        },
        "id": "Ot_cTbqD5cnJ",
        "outputId": "110427aa-1097-4ce6-fa1f-69b1d780cb8c"
      },
      "source": [
        "grid = sns.JointGrid(x=regression_df.today,y=regression_df.tomorrow)\n",
        "grid.plot_joint(plt.scatter, color=\"g\")\n",
        "plt.plot([0, 5], [0.0811, 1.77], linewidth=2)"
      ],
      "execution_count": 7,
      "outputs": [
        {
          "output_type": "execute_result",
          "data": {
            "text/plain": [
              "[<matplotlib.lines.Line2D at 0x7f2f49b88390>]"
            ]
          },
          "metadata": {
            "tags": []
          },
          "execution_count": 7
        },
        {
          "output_type": "display_data",
          "data": {
            "image/png": "[encoded data removed]",
            "text/plain": [
              "<Figure size 432x432 with 3 Axes>"
            ]
          },
          "metadata": {
            "tags": [],
            "needs_background": "light"
          }
        }
      ]
    },
    {
      "cell_type": "markdown",
      "metadata": {
        "id": "t_OKlkOS5cnJ"
      },
      "source": [
        "However, building models from scratch is hard! Lucky for us there is a very popular library that trains models for us!"
      ]
    },
    {
      "cell_type": "code",
      "metadata": {
        "id": "ObPnlYaC5cnJ"
      },
      "source": [
        "from sklearn import linear_model\n",
        "#modify the data to work with this library\n",
        "x = regression_df.today.values\n",
        "y = regression_df.tomorrow.values\n",
        "x = x.reshape(regression_df.shape[0], 1)\n",
        "y = y.reshape(regression_df.shape[0], 1)"
      ],
      "execution_count": 8,
      "outputs": []
    },
    {
      "cell_type": "code",
      "metadata": {
        "id": "PeDKCNR25cnJ"
      },
      "source": [
        "mymodel = linear_model.LinearRegression().fit(x,y)"
      ],
      "execution_count": 9,
      "outputs": []
    },
    {
      "cell_type": "code",
      "metadata": {
        "colab": {
          "base_uri": "https://localhost:8080/",
          "height": 265
        },
        "id": "hat3gFw25cnJ",
        "outputId": "3b9aea23-d583-490b-9da3-04a192ab9c7d"
      },
      "source": [
        "plt.scatter(x, y,  color='black')\n",
        "plt.plot(x, mymodel.predict(x), color='blue', linewidth=3)\n",
        "plt.xlim(-0.1,2.1)\n",
        "plt.ylim(-0.1,2.1)\n",
        "plt.show()"
      ],
      "execution_count": 10,
      "outputs": [
        {
          "output_type": "display_data",
          "data": {
            "image/png": "[encoded data removed]",
            "text/plain": [
              "<Figure size 432x288 with 1 Axes>"
            ]
          },
          "metadata": {
            "tags": [],
            "needs_background": "light"
          }
        }
      ]
    },
    {
      "cell_type": "code",
      "metadata": {
        "colab": {
          "base_uri": "https://localhost:8080/"
        },
        "id": "DGLO2d9S5cnJ",
        "outputId": "8ff3f9dc-1f50-4b7d-eb6f-a102760ed711"
      },
      "source": [
        "# using the r2 (pronounced r squared) value we can get a basic measure of model quality\n",
        "from sklearn.metrics import r2_score\n",
        "r2_score(y,mymodel.predict(x))"
      ],
      "execution_count": 11,
      "outputs": [
        {
          "output_type": "execute_result",
          "data": {
            "text/plain": [
              "0.0936792792728317"
            ]
          },
          "metadata": {
            "tags": []
          },
          "execution_count": 11
        }
      ]
    },
    {
      "cell_type": "markdown",
      "metadata": {
        "id": "_khEFHRl5cnJ"
      },
      "source": [
        "We can plot the difference between the predictions and the actual values for a visual estimate of performance. A perfect model would result in this being a straight line with a slope of 1. Notice how the model predicts only lower values, meaning that it tends to under predict the actual amount of rain."
      ]
    },
    {
      "cell_type": "code",
      "metadata": {
        "colab": {
          "base_uri": "https://localhost:8080/",
          "height": 265
        },
        "id": "FlJDr9q95cnJ",
        "outputId": "27455172-838c-4b60-9509-ace1ccee5eac"
      },
      "source": [
        "plt.scatter(mymodel.predict(x), y,  color='black')\n",
        "plt.xlim(-0.1,2.1) #to keep the same scale as the previous plot\n",
        "plt.ylim(-0.1,2.1) # same reason as xlim\n",
        "plt.show()"
      ],
      "execution_count": 12,
      "outputs": [
        {
          "output_type": "display_data",
          "data": {
            "image/png": "[encoded data removed]",
            "text/plain": [
              "<Figure size 432x288 with 1 Axes>"
            ]
          },
          "metadata": {
            "tags": [],
            "needs_background": "light"
          }
        }
      ]
    },
    {
      "cell_type": "code",
      "metadata": {
        "colab": {
          "base_uri": "https://localhost:8080/",
          "height": 202
        },
        "id": "R-Or4TYn8o9u",
        "outputId": "b0e291c0-5430-4455-fff9-714c9856525f"
      },
      "source": [
        "df.head()"
      ],
      "execution_count": 13,
      "outputs": [
        {
          "output_type": "execute_result",
          "data": {
            "text/html": [
              "<div>\n",
              "<style scoped>\n",
              "    .dataframe tbody tr th:only-of-type {\n",
              "        vertical-align: middle;\n",
              "    }\n",
              "\n",
              "    .dataframe tbody tr th {\n",
              "        vertical-align: top;\n",
              "    }\n",
              "\n",
              "    .dataframe thead th {\n",
              "        text-align: right;\n",
              "    }\n",
              "</style>\n",
              "<table border=\"1\" class=\"dataframe\">\n",
              "  <thead>\n",
              "    <tr style=\"text-align: right;\">\n",
              "      <th></th>\n",
              "      <th>DATE</th>\n",
              "      <th>PRCP</th>\n",
              "      <th>TMAX</th>\n",
              "      <th>TMIN</th>\n",
              "      <th>RAIN</th>\n",
              "    </tr>\n",
              "  </thead>\n",
              "  <tbody>\n",
              "    <tr>\n",
              "      <th>0</th>\n",
              "      <td>1948-01-01</td>\n",
              "      <td>0.47</td>\n",
              "      <td>51</td>\n",
              "      <td>42</td>\n",
              "      <td>True</td>\n",
              "    </tr>\n",
              "    <tr>\n",
              "      <th>1</th>\n",
              "      <td>1948-01-02</td>\n",
              "      <td>0.59</td>\n",
              "      <td>45</td>\n",
              "      <td>36</td>\n",
              "      <td>True</td>\n",
              "    </tr>\n",
              "    <tr>\n",
              "      <th>2</th>\n",
              "      <td>1948-01-03</td>\n",
              "      <td>0.42</td>\n",
              "      <td>45</td>\n",
              "      <td>35</td>\n",
              "      <td>True</td>\n",
              "    </tr>\n",
              "    <tr>\n",
              "      <th>3</th>\n",
              "      <td>1948-01-04</td>\n",
              "      <td>0.31</td>\n",
              "      <td>45</td>\n",
              "      <td>34</td>\n",
              "      <td>True</td>\n",
              "    </tr>\n",
              "    <tr>\n",
              "      <th>4</th>\n",
              "      <td>1948-01-05</td>\n",
              "      <td>0.17</td>\n",
              "      <td>45</td>\n",
              "      <td>32</td>\n",
              "      <td>True</td>\n",
              "    </tr>\n",
              "  </tbody>\n",
              "</table>\n",
              "</div>"
            ],
            "text/plain": [
              "         DATE  PRCP  TMAX  TMIN  RAIN\n",
              "0  1948-01-01  0.47    51    42  True\n",
              "1  1948-01-02  0.59    45    36  True\n",
              "2  1948-01-03  0.42    45    35  True\n",
              "3  1948-01-04  0.31    45    34  True\n",
              "4  1948-01-05  0.17    45    32  True"
            ]
          },
          "metadata": {
            "tags": []
          },
          "execution_count": 13
        }
      ]
    },
    {
      "cell_type": "markdown",
      "metadata": {
        "id": "8SBr5O065cnJ"
      },
      "source": [
        "### From this point modify the scikit-learn linear regression method to use two variables.\n",
        "Hint. Your x values should have the same number of rows but two columns. You will not be able to plot the line (as it will be 3 dimensional) but you can plot the model predictions agains the actual values."
      ]
    },
    {
      "cell_type": "code",
      "metadata": {
        "id": "dt5BD5-T5cnJ"
      },
      "source": [
        "numrows = 25547 \n",
        "\n",
        "###################### adjust this code to add columns here #######################################\n",
        "regression_df = pd.DataFrame({'today':[0.0]*numrows,\n",
        "                             'yesterday':[0.0]*numrows,\n",
        "                              'tomorrow':[0.0]*numrows})\n",
        "\n",
        "#sort columns for convience\n",
        "seq = ['today',\n",
        "       'tomorrow',\n",
        "       'yesterday'\n",
        "       ]\n",
        "\n",
        "regression_df = regression_df.reindex(columns=seq)\n",
        "\n",
        "for i in range(0 , numrows):\n",
        "    tomorrow = df.iloc[i,1]\n",
        "    today = df.iloc[(i-1),1]\n",
        "    yesterday = df.iloc[(i-2),1]\n",
        "    regression_df.iat[i,1] = tomorrow\n",
        "    regression_df.iat[i,0] = today\n",
        "    regression_df.iat[i,-1] = yesterday\n",
        "\n",
        "regression_df = regression_df.dropna() #exclude any rows with missing data\n",
        "#####################################################################################################"
      ],
      "execution_count": 106,
      "outputs": []
    },
    {
      "cell_type": "code",
      "metadata": {
        "colab": {
          "base_uri": "https://localhost:8080/"
        },
        "id": "pISxwXee5cnJ",
        "outputId": "2461fca7-39a8-4934-ff0c-5adc177e90ee"
      },
      "source": [
        "regression_df.describe"
      ],
      "execution_count": 101,
      "outputs": [
        {
          "output_type": "execute_result",
          "data": {
            "text/plain": [
              "<bound method NDFrame.describe of        today  tomorrow  yesterday\n",
              "0       0.00       0.0       0.00\n",
              "1       0.47       0.0       0.00\n",
              "2       0.59       0.0       0.47\n",
              "3       0.42       0.0       0.59\n",
              "4       0.31       0.0       0.42\n",
              "...      ...       ...        ...\n",
              "25542   0.00       0.0       0.00\n",
              "25543   0.00       0.0       0.00\n",
              "25544   0.00       0.0       0.00\n",
              "25545   0.00       0.0       0.00\n",
              "25546   0.00       0.0       0.00\n",
              "\n",
              "[25542 rows x 3 columns]>"
            ]
          },
          "metadata": {
            "tags": []
          },
          "execution_count": 101
        }
      ]
    },
    {
      "cell_type": "code",
      "metadata": {
        "id": "1Ko-gsR99tnY"
      },
      "source": [
        "from sklearn.linear_model import LinearRegression\n",
        "model = LinearRegression(fit_intercept=True)"
      ],
      "execution_count": 116,
      "outputs": []
    },
    {
      "cell_type": "code",
      "metadata": {
        "id": "ofpuxend-Z4n"
      },
      "source": [
        "X = regression_df[['today','yesterday']]\n",
        "y = regression_df['tomorrow']"
      ],
      "execution_count": 117,
      "outputs": []
    },
    {
      "cell_type": "code",
      "metadata": {
        "id": "whn3b62w-0qN"
      },
      "source": [
        "model.fit(X,y)\n",
        "preds = model.predict(X)"
      ],
      "execution_count": 118,
      "outputs": []
    },
    {
      "cell_type": "code",
      "metadata": {
        "colab": {
          "base_uri": "https://localhost:8080/"
        },
        "id": "v5o4lHfnDRub",
        "outputId": "0b3ca45f-eee3-4de5-fa1a-31bcfc836f25"
      },
      "source": [
        "from sklearn.metrics import r2_score\n",
        "r2_score(y,model.predict(X))"
      ],
      "execution_count": 119,
      "outputs": [
        {
          "output_type": "execute_result",
          "data": {
            "text/plain": [
              "0.09816947843263457"
            ]
          },
          "metadata": {
            "tags": []
          },
          "execution_count": 119
        }
      ]
    }
  ]
}