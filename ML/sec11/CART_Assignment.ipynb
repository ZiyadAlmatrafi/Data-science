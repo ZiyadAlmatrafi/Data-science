{
  "nbformat": 4,
  "nbformat_minor": 0,
  "metadata": {
    "kernelspec": {
      "display_name": "Python 3",
      "language": "python",
      "name": "python3"
    },
    "language_info": {
      "codemirror_mode": {
        "name": "ipython",
        "version": 3
      },
      "file_extension": ".py",
      "mimetype": "text/x-python",
      "name": "python",
      "nbconvert_exporter": "python",
      "pygments_lexer": "ipython3",
      "version": "3.5.6"
    },
    "colab": {
      "name": "CART_Assignment.ipynb",
      "provenance": [],
      "include_colab_link": true
    }
  },
  "cells": [
    {
      "cell_type": "markdown",
      "metadata": {
        "id": "view-in-github",
        "colab_type": "text"
      },
      "source": [
        "<a href=\"https://colab.research.google.com/github/ZiyadAlmatrafi/Data-science/blob/master/ML/sec11/CART_Assignment.ipynb\" target=\"_parent\"><img src=\"https://colab.research.google.com/assets/colab-badge.svg\" alt=\"Open In Colab\"/></a>"
      ]
    },
    {
      "cell_type": "markdown",
      "metadata": {
        "id": "KCEPNS5uaxg-"
      },
      "source": [
        "### Decision Tree\n",
        "Using the same seattle weather data as last chapter develop a linear regression model"
      ]
    },
    {
      "cell_type": "code",
      "metadata": {
        "id": "tyaojgWmaxg-"
      },
      "source": [
        "import pandas as pd\n",
        "import matplotlib.pyplot as plt\n",
        "import seaborn as sns\n",
        "import numpy as np\n",
        "\n",
        "df = pd.read_csv('https://raw.githubusercontent.com/daniel-dc-cd/data_science/master/module_4_ML/data/seattle_weather_1948-2017.csv')\n",
        "\n",
        "numrows = 25549 \n",
        "\n",
        "decision_tree_df = pd.DataFrame({'today':[0.0]*numrows,\n",
        "                             'tomorrow':[True]*numrows})\n",
        "\n",
        "#sort columns for convience\n",
        "seq = ['today',\n",
        "       'tomorrow']\n",
        "\n",
        "decision_tree_df = decision_tree_df.reindex(columns=seq)\n",
        "\n",
        "for i in range(0 , numrows):\n",
        "    tomorrow = df.iloc[i,1]\n",
        "    today = df.iloc[(i-1),1]\n",
        "    decision_tree_df.iat[i,1] = tomorrow\n",
        "    decision_tree_df.iat[i,0] = today\n",
        "\n",
        "decision_tree_df = decision_tree_df.dropna() #exclude any rows with missing data"
      ],
      "execution_count": 2,
      "outputs": []
    },
    {
      "cell_type": "code",
      "metadata": {
        "colab": {
          "base_uri": "https://localhost:8080/",
          "height": 202
        },
        "id": "PaNbEhQiaxg-",
        "outputId": "cfb9cd35-27ea-4609-dc00-284c280e10a6"
      },
      "source": [
        "decision_tree_df.head()"
      ],
      "execution_count": 3,
      "outputs": [
        {
          "output_type": "execute_result",
          "data": {
            "text/html": [
              "<div>\n",
              "<style scoped>\n",
              "    .dataframe tbody tr th:only-of-type {\n",
              "        vertical-align: middle;\n",
              "    }\n",
              "\n",
              "    .dataframe tbody tr th {\n",
              "        vertical-align: top;\n",
              "    }\n",
              "\n",
              "    .dataframe thead th {\n",
              "        text-align: right;\n",
              "    }\n",
              "</style>\n",
              "<table border=\"1\" class=\"dataframe\">\n",
              "  <thead>\n",
              "    <tr style=\"text-align: right;\">\n",
              "      <th></th>\n",
              "      <th>today</th>\n",
              "      <th>tomorrow</th>\n",
              "    </tr>\n",
              "  </thead>\n",
              "  <tbody>\n",
              "    <tr>\n",
              "      <th>0</th>\n",
              "      <td>0.00</td>\n",
              "      <td>True</td>\n",
              "    </tr>\n",
              "    <tr>\n",
              "      <th>1</th>\n",
              "      <td>0.47</td>\n",
              "      <td>True</td>\n",
              "    </tr>\n",
              "    <tr>\n",
              "      <th>2</th>\n",
              "      <td>0.59</td>\n",
              "      <td>True</td>\n",
              "    </tr>\n",
              "    <tr>\n",
              "      <th>3</th>\n",
              "      <td>0.42</td>\n",
              "      <td>True</td>\n",
              "    </tr>\n",
              "    <tr>\n",
              "      <th>4</th>\n",
              "      <td>0.31</td>\n",
              "      <td>True</td>\n",
              "    </tr>\n",
              "  </tbody>\n",
              "</table>\n",
              "</div>"
            ],
            "text/plain": [
              "   today  tomorrow\n",
              "0   0.00      True\n",
              "1   0.47      True\n",
              "2   0.59      True\n",
              "3   0.42      True\n",
              "4   0.31      True"
            ]
          },
          "metadata": {
            "tags": []
          },
          "execution_count": 3
        }
      ]
    },
    {
      "cell_type": "code",
      "metadata": {
        "id": "qRRHDjBkaxg-"
      },
      "source": [
        "from sklearn import tree\n",
        "#modify the data to work with this model\n",
        "x = decision_tree_df.today.values\n",
        "y = decision_tree_df.tomorrow.values\n",
        "x = x.reshape(decision_tree_df.shape[0], 1)\n",
        "#note that we did not need to reshape the y values as we did with linear regression"
      ],
      "execution_count": 4,
      "outputs": []
    },
    {
      "cell_type": "code",
      "metadata": {
        "id": "V0DBpB2naxg-"
      },
      "source": [
        "clf = tree.DecisionTreeClassifier(criterion='entropy').fit(x, y)"
      ],
      "execution_count": 5,
      "outputs": []
    },
    {
      "cell_type": "code",
      "metadata": {
        "colab": {
          "base_uri": "https://localhost:8080/"
        },
        "id": "Tj77FvOvaxg-",
        "outputId": "80e31f50-46c4-4448-faa3-8385d1122850"
      },
      "source": [
        "#we can calculate the accuarcy using score\n",
        "score = clf.score(x,y)\n",
        "print(score)"
      ],
      "execution_count": 6,
      "outputs": [
        {
          "output_type": "stream",
          "text": [
            "0.7129883347686526\n"
          ],
          "name": "stdout"
        }
      ]
    },
    {
      "cell_type": "code",
      "metadata": {
        "colab": {
          "base_uri": "https://localhost:8080/"
        },
        "id": "diN_M8q3axg-",
        "outputId": "deafa134-7b36-4ad6-c4af-906f50b3f577"
      },
      "source": [
        "from sklearn import metrics\n",
        "#we can also make a simple confusion matrix\n",
        "predictions = clf.predict(x)\n",
        "cm = metrics.confusion_matrix(y, predictions)\n",
        "print(cm)"
      ],
      "execution_count": 7,
      "outputs": [
        {
          "output_type": "stream",
          "text": [
            "[[11461  3183]\n",
            " [ 4149  6753]]\n"
          ],
          "name": "stdout"
        }
      ]
    },
    {
      "cell_type": "code",
      "metadata": {
        "colab": {
          "base_uri": "https://localhost:8080/",
          "height": 520
        },
        "id": "JJeNFcfXaxg_",
        "outputId": "1e4d2fd9-8fe6-4197-b5df-a705f5610c3f"
      },
      "source": [
        "#Here is a bit nicer matrix\n",
        "plt.figure(figsize=(9,9))\n",
        "sns.heatmap(cm, annot=True, fmt=\".3f\", linewidths=.5, square = True, cmap = 'Blues_r');\n",
        "plt.ylabel('Actual label');\n",
        "plt.xlabel('Predicted label');\n",
        "all_sample_title = 'Accuracy Score: {0}'.format(score)\n",
        "plt.title(all_sample_title, size = 15);"
      ],
      "execution_count": 8,
      "outputs": [
        {
          "output_type": "display_data",
          "data": {
            "image/png": "[encoded data removed]",
            "text/plain": [
              "<Figure size 648x648 with 2 Axes>"
            ]
          },
          "metadata": {
            "tags": [],
            "needs_background": "light"
          }
        }
      ]
    },
    {
      "cell_type": "code",
      "metadata": {
        "id": "g5C5loFQaxg_"
      },
      "source": [
        "from sklearn.tree import plot_tree\n",
        "\n",
        "tree.export_graphviz(clf,out_file='dt.dot',filled=True)"
      ],
      "execution_count": 18,
      "outputs": []
    },
    {
      "cell_type": "markdown",
      "metadata": {
        "id": "cYU1EOpIaxg_"
      },
      "source": [
        "Open the file and paste the contents into the graph viz tool here: [here:](http://webgraphviz.com/)"
      ]
    }
  ]
}