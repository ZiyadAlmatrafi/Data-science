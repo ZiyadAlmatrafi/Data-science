{
  "nbformat": 4,
  "nbformat_minor": 0,
  "metadata": {
    "kernelspec": {
      "display_name": "Python 3",
      "language": "python",
      "name": "python3"
    },
    "language_info": {
      "codemirror_mode": {
        "name": "ipython",
        "version": 3
      },
      "file_extension": ".py",
      "mimetype": "text/x-python",
      "name": "python",
      "nbconvert_exporter": "python",
      "pygments_lexer": "ipython3",
      "version": "3.8.3"
    },
    "colab": {
      "name": "cost_function_assignment.ipynb",
      "provenance": []
    }
  },
  "cells": [
    {
      "cell_type": "markdown",
      "metadata": {
        "id": "VnYSco2DmntA"
      },
      "source": [
        "### Heuristic Models (Cost Function Extension)\n",
        "Look at the Seattle weather in the **data** folder. Come up with a heuristic model to predict if it will rain today. Keep in mind this is a time series, which means that you only know what happened historically (before a given date). One example of a heuristic model is: It will rain tomorrow if it rained more than 1 inch (>1.0 PRCP) today. Describe your heuristic model in the next cell."
      ]
    },
    {
      "cell_type": "markdown",
      "metadata": {
        "id": "J1rZ_SabmntB"
      },
      "source": [
        "**your model here**  \n",
        "\n",
        "Examples:  \n",
        "\n",
        "If rained yesterday it will rain today.  \n",
        "If it rained yesterday or the day before it will rain today."
      ]
    },
    {
      "cell_type": "code",
      "metadata": {
        "id": "0t5yXnrgmntB"
      },
      "source": [
        "# here is an example of how to build and populate a hurestic model\n",
        "\n",
        "import pandas as pd\n",
        "\n",
        "df = pd.read_csv('https://raw.githubusercontent.com/daniel-dc-cd/data_science/master/module_4_ML/data/seattle_weather_1948-2017.csv')\n",
        "\n",
        "numrows = 25549 # can be as large as 25549\n",
        "\n",
        "#create an empty dataframe to hold 100 values\n",
        "heuristic_df = pd.DataFrame({'yesterday':[0.0]*numrows,\n",
        "                             'today':[0.0]*numrows,\n",
        "                             'tomorrow':[0.0]*numrows,\n",
        "                             'guess':[False]*numrows,  # logical guess\n",
        "                             'rain_tomorrow':[False]*numrows,  # historical observation\n",
        "                             'correct':[False]*numrows,  # TRUE if your guess matches the historical observation\n",
        "                             'true_positive':[False]*numrows,  # TRUE If you said it would rain and it did\n",
        "                             'false_positive':[False]*numrows,  # TRUE If you sait id would rain and it didn't\n",
        "                             'true_negative':[False]*numrows,  # TRUE if you said it wouldn't rain and it didn't\n",
        "                             'false_negative':[False]*numrows})  # TRUE if you said it wouldn't raing and it did\n",
        "\n",
        "# sort columns for convience\n",
        "seq = ['yesterday',\n",
        "       'today',\n",
        "       'tomorrow',\n",
        "       'guess',\n",
        "       'rain_tomorrow',\n",
        "       'correct',\n",
        "       'true_positive',\n",
        "       'false_positive',\n",
        "       'true_negative',\n",
        "       'false_negative']\n",
        "\n",
        "heuristic_df = heuristic_df.reindex(columns=seq)"
      ],
      "execution_count": 1,
      "outputs": []
    },
    {
      "cell_type": "code",
      "metadata": {
        "id": "tfOzHVUXmntE",
        "outputId": "8fe3d452-ccfd-4c0f-e3bf-eb64d0329759",
        "colab": {
          "base_uri": "https://localhost:8080/",
          "height": 202
        }
      },
      "source": [
        "df.head()"
      ],
      "execution_count": 2,
      "outputs": [
        {
          "output_type": "execute_result",
          "data": {
            "text/html": [
              "<div>\n",
              "<style scoped>\n",
              "    .dataframe tbody tr th:only-of-type {\n",
              "        vertical-align: middle;\n",
              "    }\n",
              "\n",
              "    .dataframe tbody tr th {\n",
              "        vertical-align: top;\n",
              "    }\n",
              "\n",
              "    .dataframe thead th {\n",
              "        text-align: right;\n",
              "    }\n",
              "</style>\n",
              "<table border=\"1\" class=\"dataframe\">\n",
              "  <thead>\n",
              "    <tr style=\"text-align: right;\">\n",
              "      <th></th>\n",
              "      <th>DATE</th>\n",
              "      <th>PRCP</th>\n",
              "      <th>TMAX</th>\n",
              "      <th>TMIN</th>\n",
              "      <th>RAIN</th>\n",
              "    </tr>\n",
              "  </thead>\n",
              "  <tbody>\n",
              "    <tr>\n",
              "      <th>0</th>\n",
              "      <td>1948-01-01</td>\n",
              "      <td>0.47</td>\n",
              "      <td>51</td>\n",
              "      <td>42</td>\n",
              "      <td>True</td>\n",
              "    </tr>\n",
              "    <tr>\n",
              "      <th>1</th>\n",
              "      <td>1948-01-02</td>\n",
              "      <td>0.59</td>\n",
              "      <td>45</td>\n",
              "      <td>36</td>\n",
              "      <td>True</td>\n",
              "    </tr>\n",
              "    <tr>\n",
              "      <th>2</th>\n",
              "      <td>1948-01-03</td>\n",
              "      <td>0.42</td>\n",
              "      <td>45</td>\n",
              "      <td>35</td>\n",
              "      <td>True</td>\n",
              "    </tr>\n",
              "    <tr>\n",
              "      <th>3</th>\n",
              "      <td>1948-01-04</td>\n",
              "      <td>0.31</td>\n",
              "      <td>45</td>\n",
              "      <td>34</td>\n",
              "      <td>True</td>\n",
              "    </tr>\n",
              "    <tr>\n",
              "      <th>4</th>\n",
              "      <td>1948-01-05</td>\n",
              "      <td>0.17</td>\n",
              "      <td>45</td>\n",
              "      <td>32</td>\n",
              "      <td>True</td>\n",
              "    </tr>\n",
              "  </tbody>\n",
              "</table>\n",
              "</div>"
            ],
            "text/plain": [
              "         DATE  PRCP  TMAX  TMIN  RAIN\n",
              "0  1948-01-01  0.47    51    42  True\n",
              "1  1948-01-02  0.59    45    36  True\n",
              "2  1948-01-03  0.42    45    35  True\n",
              "3  1948-01-04  0.31    45    34  True\n",
              "4  1948-01-05  0.17    45    32  True"
            ]
          },
          "metadata": {
            "tags": []
          },
          "execution_count": 2
        }
      ]
    },
    {
      "cell_type": "code",
      "metadata": {
        "id": "Fv5qIv5RmntH",
        "outputId": "c0b78768-2e6c-4d3b-8eab-57d780629e23",
        "colab": {
          "base_uri": "https://localhost:8080/",
          "height": 202
        }
      },
      "source": [
        "heuristic_df.head()"
      ],
      "execution_count": 3,
      "outputs": [
        {
          "output_type": "execute_result",
          "data": {
            "text/html": [
              "<div>\n",
              "<style scoped>\n",
              "    .dataframe tbody tr th:only-of-type {\n",
              "        vertical-align: middle;\n",
              "    }\n",
              "\n",
              "    .dataframe tbody tr th {\n",
              "        vertical-align: top;\n",
              "    }\n",
              "\n",
              "    .dataframe thead th {\n",
              "        text-align: right;\n",
              "    }\n",
              "</style>\n",
              "<table border=\"1\" class=\"dataframe\">\n",
              "  <thead>\n",
              "    <tr style=\"text-align: right;\">\n",
              "      <th></th>\n",
              "      <th>yesterday</th>\n",
              "      <th>today</th>\n",
              "      <th>tomorrow</th>\n",
              "      <th>guess</th>\n",
              "      <th>rain_tomorrow</th>\n",
              "      <th>correct</th>\n",
              "      <th>true_positive</th>\n",
              "      <th>false_positive</th>\n",
              "      <th>true_negative</th>\n",
              "      <th>false_negative</th>\n",
              "    </tr>\n",
              "  </thead>\n",
              "  <tbody>\n",
              "    <tr>\n",
              "      <th>0</th>\n",
              "      <td>0.0</td>\n",
              "      <td>0.0</td>\n",
              "      <td>0.0</td>\n",
              "      <td>False</td>\n",
              "      <td>False</td>\n",
              "      <td>False</td>\n",
              "      <td>False</td>\n",
              "      <td>False</td>\n",
              "      <td>False</td>\n",
              "      <td>False</td>\n",
              "    </tr>\n",
              "    <tr>\n",
              "      <th>1</th>\n",
              "      <td>0.0</td>\n",
              "      <td>0.0</td>\n",
              "      <td>0.0</td>\n",
              "      <td>False</td>\n",
              "      <td>False</td>\n",
              "      <td>False</td>\n",
              "      <td>False</td>\n",
              "      <td>False</td>\n",
              "      <td>False</td>\n",
              "      <td>False</td>\n",
              "    </tr>\n",
              "    <tr>\n",
              "      <th>2</th>\n",
              "      <td>0.0</td>\n",
              "      <td>0.0</td>\n",
              "      <td>0.0</td>\n",
              "      <td>False</td>\n",
              "      <td>False</td>\n",
              "      <td>False</td>\n",
              "      <td>False</td>\n",
              "      <td>False</td>\n",
              "      <td>False</td>\n",
              "      <td>False</td>\n",
              "    </tr>\n",
              "    <tr>\n",
              "      <th>3</th>\n",
              "      <td>0.0</td>\n",
              "      <td>0.0</td>\n",
              "      <td>0.0</td>\n",
              "      <td>False</td>\n",
              "      <td>False</td>\n",
              "      <td>False</td>\n",
              "      <td>False</td>\n",
              "      <td>False</td>\n",
              "      <td>False</td>\n",
              "      <td>False</td>\n",
              "    </tr>\n",
              "    <tr>\n",
              "      <th>4</th>\n",
              "      <td>0.0</td>\n",
              "      <td>0.0</td>\n",
              "      <td>0.0</td>\n",
              "      <td>False</td>\n",
              "      <td>False</td>\n",
              "      <td>False</td>\n",
              "      <td>False</td>\n",
              "      <td>False</td>\n",
              "      <td>False</td>\n",
              "      <td>False</td>\n",
              "    </tr>\n",
              "  </tbody>\n",
              "</table>\n",
              "</div>"
            ],
            "text/plain": [
              "   yesterday  today  tomorrow  ...  false_positive  true_negative  false_negative\n",
              "0        0.0    0.0       0.0  ...           False          False           False\n",
              "1        0.0    0.0       0.0  ...           False          False           False\n",
              "2        0.0    0.0       0.0  ...           False          False           False\n",
              "3        0.0    0.0       0.0  ...           False          False           False\n",
              "4        0.0    0.0       0.0  ...           False          False           False\n",
              "\n",
              "[5 rows x 10 columns]"
            ]
          },
          "metadata": {
            "tags": []
          },
          "execution_count": 3
        }
      ]
    },
    {
      "cell_type": "markdown",
      "metadata": {
        "id": "ZGTEGopgmntK"
      },
      "source": [
        "Build a loop to add your heuristic model guesses as a column to this dataframe"
      ]
    },
    {
      "cell_type": "code",
      "metadata": {
        "id": "T-2HSFO0mntK"
      },
      "source": [
        "# here is an example loop that populates the dataframe created earlier\n",
        "# with the total percip from yesterday and today\n",
        "# then the guess is set to true if rained both yesterday and today \n",
        "\n",
        "for _ in range(numrows):\n",
        "    \n",
        "    # start at time 2 in the data frame\n",
        "    i = _ + 2\n",
        "    \n",
        "    # pull values from the dataframe\n",
        "    yesterday = df.iloc[(i - 2), 1]\n",
        "    today = df.iloc[(i - 1), 1]\n",
        "    tomorrow = df.iloc[i, 1]\n",
        "    rain_tomorrow = df.iloc[(i), 1]\n",
        "    \n",
        "    heuristic_df.iat[_, 0] = yesterday\n",
        "    heuristic_df.iat[_, 1] = today\n",
        "    heuristic_df.iat[_, 2] = tomorrow\n",
        "    heuristic_df.iat[_, 3] = False # set guess default to False\n",
        "    heuristic_df.iat[_, 4] = rain_tomorrow\n",
        "    \n",
        "    # example hueristic\n",
        "    if today > 0.0 and yesterday > 0.0:\n",
        "        heuristic_df.iat[_, 3] = True\n",
        "        \n",
        "    if heuristic_df.iat[_, 3] == heuristic_df.iat[_, 4]:\n",
        "        heuristic_df.iat[_, 5] = True\n",
        "        \n",
        "        if heuristic_df.iat[_, 3] == True:\n",
        "            heuristic_df.iat[_, 6] = True  # true positive\n",
        "        else:\n",
        "            heuristic_df.iat[_, 8] = True  # true negative\n",
        "        \n",
        "    else:\n",
        "        heuristic_df.iat[_, 5] = False\n",
        "        \n",
        "        if heuristic_df.iat[_, 3] == True:\n",
        "            heuristic_df.iat[_, 7] = True  # false positive\n",
        "        else:\n",
        "            heuristic_df.iat[_, 9] = True  # false negative"
      ],
      "execution_count": 4,
      "outputs": []
    },
    {
      "cell_type": "code",
      "metadata": {
        "id": "IxOcAugMmntM",
        "outputId": "d0813cb8-9577-4f17-bdd6-1430cd6ca886",
        "colab": {
          "base_uri": "https://localhost:8080/",
          "height": 415
        }
      },
      "source": [
        "heuristic_df"
      ],
      "execution_count": 5,
      "outputs": [
        {
          "output_type": "execute_result",
          "data": {
            "text/html": [
              "<div>\n",
              "<style scoped>\n",
              "    .dataframe tbody tr th:only-of-type {\n",
              "        vertical-align: middle;\n",
              "    }\n",
              "\n",
              "    .dataframe tbody tr th {\n",
              "        vertical-align: top;\n",
              "    }\n",
              "\n",
              "    .dataframe thead th {\n",
              "        text-align: right;\n",
              "    }\n",
              "</style>\n",
              "<table border=\"1\" class=\"dataframe\">\n",
              "  <thead>\n",
              "    <tr style=\"text-align: right;\">\n",
              "      <th></th>\n",
              "      <th>yesterday</th>\n",
              "      <th>today</th>\n",
              "      <th>tomorrow</th>\n",
              "      <th>guess</th>\n",
              "      <th>rain_tomorrow</th>\n",
              "      <th>correct</th>\n",
              "      <th>true_positive</th>\n",
              "      <th>false_positive</th>\n",
              "      <th>true_negative</th>\n",
              "      <th>false_negative</th>\n",
              "    </tr>\n",
              "  </thead>\n",
              "  <tbody>\n",
              "    <tr>\n",
              "      <th>0</th>\n",
              "      <td>0.47</td>\n",
              "      <td>0.59</td>\n",
              "      <td>0.42</td>\n",
              "      <td>True</td>\n",
              "      <td>True</td>\n",
              "      <td>True</td>\n",
              "      <td>True</td>\n",
              "      <td>False</td>\n",
              "      <td>False</td>\n",
              "      <td>False</td>\n",
              "    </tr>\n",
              "    <tr>\n",
              "      <th>1</th>\n",
              "      <td>0.59</td>\n",
              "      <td>0.42</td>\n",
              "      <td>0.31</td>\n",
              "      <td>True</td>\n",
              "      <td>True</td>\n",
              "      <td>True</td>\n",
              "      <td>True</td>\n",
              "      <td>False</td>\n",
              "      <td>False</td>\n",
              "      <td>False</td>\n",
              "    </tr>\n",
              "    <tr>\n",
              "      <th>2</th>\n",
              "      <td>0.42</td>\n",
              "      <td>0.31</td>\n",
              "      <td>0.17</td>\n",
              "      <td>True</td>\n",
              "      <td>True</td>\n",
              "      <td>True</td>\n",
              "      <td>True</td>\n",
              "      <td>False</td>\n",
              "      <td>False</td>\n",
              "      <td>False</td>\n",
              "    </tr>\n",
              "    <tr>\n",
              "      <th>3</th>\n",
              "      <td>0.31</td>\n",
              "      <td>0.17</td>\n",
              "      <td>0.44</td>\n",
              "      <td>True</td>\n",
              "      <td>True</td>\n",
              "      <td>True</td>\n",
              "      <td>True</td>\n",
              "      <td>False</td>\n",
              "      <td>False</td>\n",
              "      <td>False</td>\n",
              "    </tr>\n",
              "    <tr>\n",
              "      <th>4</th>\n",
              "      <td>0.17</td>\n",
              "      <td>0.44</td>\n",
              "      <td>0.41</td>\n",
              "      <td>True</td>\n",
              "      <td>True</td>\n",
              "      <td>True</td>\n",
              "      <td>True</td>\n",
              "      <td>False</td>\n",
              "      <td>False</td>\n",
              "      <td>False</td>\n",
              "    </tr>\n",
              "    <tr>\n",
              "      <th>...</th>\n",
              "      <td>...</td>\n",
              "      <td>...</td>\n",
              "      <td>...</td>\n",
              "      <td>...</td>\n",
              "      <td>...</td>\n",
              "      <td>...</td>\n",
              "      <td>...</td>\n",
              "      <td>...</td>\n",
              "      <td>...</td>\n",
              "      <td>...</td>\n",
              "    </tr>\n",
              "    <tr>\n",
              "      <th>25544</th>\n",
              "      <td>0.00</td>\n",
              "      <td>0.00</td>\n",
              "      <td>0.00</td>\n",
              "      <td>False</td>\n",
              "      <td>False</td>\n",
              "      <td>True</td>\n",
              "      <td>False</td>\n",
              "      <td>False</td>\n",
              "      <td>True</td>\n",
              "      <td>False</td>\n",
              "    </tr>\n",
              "    <tr>\n",
              "      <th>25545</th>\n",
              "      <td>0.00</td>\n",
              "      <td>0.00</td>\n",
              "      <td>0.00</td>\n",
              "      <td>False</td>\n",
              "      <td>False</td>\n",
              "      <td>True</td>\n",
              "      <td>False</td>\n",
              "      <td>False</td>\n",
              "      <td>True</td>\n",
              "      <td>False</td>\n",
              "    </tr>\n",
              "    <tr>\n",
              "      <th>25546</th>\n",
              "      <td>0.00</td>\n",
              "      <td>0.00</td>\n",
              "      <td>0.00</td>\n",
              "      <td>False</td>\n",
              "      <td>False</td>\n",
              "      <td>True</td>\n",
              "      <td>False</td>\n",
              "      <td>False</td>\n",
              "      <td>True</td>\n",
              "      <td>False</td>\n",
              "    </tr>\n",
              "    <tr>\n",
              "      <th>25547</th>\n",
              "      <td>0.00</td>\n",
              "      <td>0.00</td>\n",
              "      <td>0.00</td>\n",
              "      <td>False</td>\n",
              "      <td>False</td>\n",
              "      <td>True</td>\n",
              "      <td>False</td>\n",
              "      <td>False</td>\n",
              "      <td>True</td>\n",
              "      <td>False</td>\n",
              "    </tr>\n",
              "    <tr>\n",
              "      <th>25548</th>\n",
              "      <td>0.00</td>\n",
              "      <td>0.00</td>\n",
              "      <td>0.00</td>\n",
              "      <td>False</td>\n",
              "      <td>False</td>\n",
              "      <td>True</td>\n",
              "      <td>False</td>\n",
              "      <td>False</td>\n",
              "      <td>True</td>\n",
              "      <td>False</td>\n",
              "    </tr>\n",
              "  </tbody>\n",
              "</table>\n",
              "<p>25549 rows × 10 columns</p>\n",
              "</div>"
            ],
            "text/plain": [
              "       yesterday  today  ...  true_negative  false_negative\n",
              "0           0.47   0.59  ...          False           False\n",
              "1           0.59   0.42  ...          False           False\n",
              "2           0.42   0.31  ...          False           False\n",
              "3           0.31   0.17  ...          False           False\n",
              "4           0.17   0.44  ...          False           False\n",
              "...          ...    ...  ...            ...             ...\n",
              "25544       0.00   0.00  ...           True           False\n",
              "25545       0.00   0.00  ...           True           False\n",
              "25546       0.00   0.00  ...           True           False\n",
              "25547       0.00   0.00  ...           True           False\n",
              "25548       0.00   0.00  ...           True           False\n",
              "\n",
              "[25549 rows x 10 columns]"
            ]
          },
          "metadata": {
            "tags": []
          },
          "execution_count": 5
        }
      ]
    },
    {
      "cell_type": "code",
      "metadata": {
        "id": "QCznjaLCmntO",
        "outputId": "e07a2b76-f873-47c2-8d5c-c624841af95a",
        "colab": {
          "base_uri": "https://localhost:8080/",
          "height": 415
        }
      },
      "source": [
        "df"
      ],
      "execution_count": 6,
      "outputs": [
        {
          "output_type": "execute_result",
          "data": {
            "text/html": [
              "<div>\n",
              "<style scoped>\n",
              "    .dataframe tbody tr th:only-of-type {\n",
              "        vertical-align: middle;\n",
              "    }\n",
              "\n",
              "    .dataframe tbody tr th {\n",
              "        vertical-align: top;\n",
              "    }\n",
              "\n",
              "    .dataframe thead th {\n",
              "        text-align: right;\n",
              "    }\n",
              "</style>\n",
              "<table border=\"1\" class=\"dataframe\">\n",
              "  <thead>\n",
              "    <tr style=\"text-align: right;\">\n",
              "      <th></th>\n",
              "      <th>DATE</th>\n",
              "      <th>PRCP</th>\n",
              "      <th>TMAX</th>\n",
              "      <th>TMIN</th>\n",
              "      <th>RAIN</th>\n",
              "    </tr>\n",
              "  </thead>\n",
              "  <tbody>\n",
              "    <tr>\n",
              "      <th>0</th>\n",
              "      <td>1948-01-01</td>\n",
              "      <td>0.47</td>\n",
              "      <td>51</td>\n",
              "      <td>42</td>\n",
              "      <td>True</td>\n",
              "    </tr>\n",
              "    <tr>\n",
              "      <th>1</th>\n",
              "      <td>1948-01-02</td>\n",
              "      <td>0.59</td>\n",
              "      <td>45</td>\n",
              "      <td>36</td>\n",
              "      <td>True</td>\n",
              "    </tr>\n",
              "    <tr>\n",
              "      <th>2</th>\n",
              "      <td>1948-01-03</td>\n",
              "      <td>0.42</td>\n",
              "      <td>45</td>\n",
              "      <td>35</td>\n",
              "      <td>True</td>\n",
              "    </tr>\n",
              "    <tr>\n",
              "      <th>3</th>\n",
              "      <td>1948-01-04</td>\n",
              "      <td>0.31</td>\n",
              "      <td>45</td>\n",
              "      <td>34</td>\n",
              "      <td>True</td>\n",
              "    </tr>\n",
              "    <tr>\n",
              "      <th>4</th>\n",
              "      <td>1948-01-05</td>\n",
              "      <td>0.17</td>\n",
              "      <td>45</td>\n",
              "      <td>32</td>\n",
              "      <td>True</td>\n",
              "    </tr>\n",
              "    <tr>\n",
              "      <th>...</th>\n",
              "      <td>...</td>\n",
              "      <td>...</td>\n",
              "      <td>...</td>\n",
              "      <td>...</td>\n",
              "      <td>...</td>\n",
              "    </tr>\n",
              "    <tr>\n",
              "      <th>25546</th>\n",
              "      <td>2017-12-10</td>\n",
              "      <td>0.00</td>\n",
              "      <td>49</td>\n",
              "      <td>34</td>\n",
              "      <td>False</td>\n",
              "    </tr>\n",
              "    <tr>\n",
              "      <th>25547</th>\n",
              "      <td>2017-12-11</td>\n",
              "      <td>0.00</td>\n",
              "      <td>49</td>\n",
              "      <td>29</td>\n",
              "      <td>False</td>\n",
              "    </tr>\n",
              "    <tr>\n",
              "      <th>25548</th>\n",
              "      <td>2017-12-12</td>\n",
              "      <td>0.00</td>\n",
              "      <td>46</td>\n",
              "      <td>32</td>\n",
              "      <td>False</td>\n",
              "    </tr>\n",
              "    <tr>\n",
              "      <th>25549</th>\n",
              "      <td>2017-12-13</td>\n",
              "      <td>0.00</td>\n",
              "      <td>48</td>\n",
              "      <td>34</td>\n",
              "      <td>False</td>\n",
              "    </tr>\n",
              "    <tr>\n",
              "      <th>25550</th>\n",
              "      <td>2017-12-14</td>\n",
              "      <td>0.00</td>\n",
              "      <td>50</td>\n",
              "      <td>36</td>\n",
              "      <td>False</td>\n",
              "    </tr>\n",
              "  </tbody>\n",
              "</table>\n",
              "<p>25551 rows × 5 columns</p>\n",
              "</div>"
            ],
            "text/plain": [
              "             DATE  PRCP  TMAX  TMIN   RAIN\n",
              "0      1948-01-01  0.47    51    42   True\n",
              "1      1948-01-02  0.59    45    36   True\n",
              "2      1948-01-03  0.42    45    35   True\n",
              "3      1948-01-04  0.31    45    34   True\n",
              "4      1948-01-05  0.17    45    32   True\n",
              "...           ...   ...   ...   ...    ...\n",
              "25546  2017-12-10  0.00    49    34  False\n",
              "25547  2017-12-11  0.00    49    29  False\n",
              "25548  2017-12-12  0.00    46    32  False\n",
              "25549  2017-12-13  0.00    48    34  False\n",
              "25550  2017-12-14  0.00    50    36  False\n",
              "\n",
              "[25551 rows x 5 columns]"
            ]
          },
          "metadata": {
            "tags": []
          },
          "execution_count": 6
        }
      ]
    },
    {
      "cell_type": "markdown",
      "metadata": {
        "id": "IivqjkanmntP"
      },
      "source": [
        "### Evaluate the performance of the Heuristic model"
      ]
    },
    {
      "cell_type": "markdown",
      "metadata": {
        "id": "A40zjLeGmntQ"
      },
      "source": [
        "***split data into training and testing***"
      ]
    },
    {
      "cell_type": "code",
      "metadata": {
        "id": "R9JGvFBpmntQ",
        "outputId": "efae74a3-1856-4666-9b9e-13a37e267f41",
        "colab": {
          "base_uri": "https://localhost:8080/",
          "height": 415
        }
      },
      "source": [
        "from sklearn.model_selection import train_test_split \n",
        "\n",
        "# enter split function here to make h_train and h_test subsets of the data\n",
        "X_train, X_test, y_train, y_test = train_test_split(df, df['RAIN'], test_size=0.3)\n",
        "\n",
        "X_train"
      ],
      "execution_count": 7,
      "outputs": [
        {
          "output_type": "execute_result",
          "data": {
            "text/html": [
              "<div>\n",
              "<style scoped>\n",
              "    .dataframe tbody tr th:only-of-type {\n",
              "        vertical-align: middle;\n",
              "    }\n",
              "\n",
              "    .dataframe tbody tr th {\n",
              "        vertical-align: top;\n",
              "    }\n",
              "\n",
              "    .dataframe thead th {\n",
              "        text-align: right;\n",
              "    }\n",
              "</style>\n",
              "<table border=\"1\" class=\"dataframe\">\n",
              "  <thead>\n",
              "    <tr style=\"text-align: right;\">\n",
              "      <th></th>\n",
              "      <th>DATE</th>\n",
              "      <th>PRCP</th>\n",
              "      <th>TMAX</th>\n",
              "      <th>TMIN</th>\n",
              "      <th>RAIN</th>\n",
              "    </tr>\n",
              "  </thead>\n",
              "  <tbody>\n",
              "    <tr>\n",
              "      <th>1097</th>\n",
              "      <td>1951-01-02</td>\n",
              "      <td>0.98</td>\n",
              "      <td>46</td>\n",
              "      <td>39</td>\n",
              "      <td>True</td>\n",
              "    </tr>\n",
              "    <tr>\n",
              "      <th>15078</th>\n",
              "      <td>1989-04-13</td>\n",
              "      <td>0.00</td>\n",
              "      <td>72</td>\n",
              "      <td>44</td>\n",
              "      <td>False</td>\n",
              "    </tr>\n",
              "    <tr>\n",
              "      <th>6868</th>\n",
              "      <td>1966-10-21</td>\n",
              "      <td>0.36</td>\n",
              "      <td>46</td>\n",
              "      <td>39</td>\n",
              "      <td>True</td>\n",
              "    </tr>\n",
              "    <tr>\n",
              "      <th>7041</th>\n",
              "      <td>1967-04-12</td>\n",
              "      <td>0.13</td>\n",
              "      <td>49</td>\n",
              "      <td>41</td>\n",
              "      <td>True</td>\n",
              "    </tr>\n",
              "    <tr>\n",
              "      <th>23524</th>\n",
              "      <td>2012-05-28</td>\n",
              "      <td>0.00</td>\n",
              "      <td>62</td>\n",
              "      <td>50</td>\n",
              "      <td>False</td>\n",
              "    </tr>\n",
              "    <tr>\n",
              "      <th>...</th>\n",
              "      <td>...</td>\n",
              "      <td>...</td>\n",
              "      <td>...</td>\n",
              "      <td>...</td>\n",
              "      <td>...</td>\n",
              "    </tr>\n",
              "    <tr>\n",
              "      <th>3243</th>\n",
              "      <td>1956-11-17</td>\n",
              "      <td>0.00</td>\n",
              "      <td>47</td>\n",
              "      <td>36</td>\n",
              "      <td>False</td>\n",
              "    </tr>\n",
              "    <tr>\n",
              "      <th>24619</th>\n",
              "      <td>2015-05-28</td>\n",
              "      <td>0.00</td>\n",
              "      <td>82</td>\n",
              "      <td>54</td>\n",
              "      <td>False</td>\n",
              "    </tr>\n",
              "    <tr>\n",
              "      <th>7238</th>\n",
              "      <td>1967-10-26</td>\n",
              "      <td>0.00</td>\n",
              "      <td>53</td>\n",
              "      <td>41</td>\n",
              "      <td>False</td>\n",
              "    </tr>\n",
              "    <tr>\n",
              "      <th>21586</th>\n",
              "      <td>2007-02-06</td>\n",
              "      <td>0.03</td>\n",
              "      <td>48</td>\n",
              "      <td>41</td>\n",
              "      <td>True</td>\n",
              "    </tr>\n",
              "    <tr>\n",
              "      <th>12684</th>\n",
              "      <td>1982-09-23</td>\n",
              "      <td>0.00</td>\n",
              "      <td>76</td>\n",
              "      <td>55</td>\n",
              "      <td>False</td>\n",
              "    </tr>\n",
              "  </tbody>\n",
              "</table>\n",
              "<p>17885 rows × 5 columns</p>\n",
              "</div>"
            ],
            "text/plain": [
              "             DATE  PRCP  TMAX  TMIN   RAIN\n",
              "1097   1951-01-02  0.98    46    39   True\n",
              "15078  1989-04-13  0.00    72    44  False\n",
              "6868   1966-10-21  0.36    46    39   True\n",
              "7041   1967-04-12  0.13    49    41   True\n",
              "23524  2012-05-28  0.00    62    50  False\n",
              "...           ...   ...   ...   ...    ...\n",
              "3243   1956-11-17  0.00    47    36  False\n",
              "24619  2015-05-28  0.00    82    54  False\n",
              "7238   1967-10-26  0.00    53    41  False\n",
              "21586  2007-02-06  0.03    48    41   True\n",
              "12684  1982-09-23  0.00    76    55  False\n",
              "\n",
              "[17885 rows x 5 columns]"
            ]
          },
          "metadata": {
            "tags": []
          },
          "execution_count": 7
        }
      ]
    },
    {
      "cell_type": "code",
      "metadata": {
        "id": "bpygRHgwmntS",
        "outputId": "122313c5-1166-4bd6-d9b6-fee9307ca228",
        "colab": {
          "base_uri": "https://localhost:8080/",
          "height": 415
        }
      },
      "source": [
        "X_test"
      ],
      "execution_count": 8,
      "outputs": [
        {
          "output_type": "execute_result",
          "data": {
            "text/html": [
              "<div>\n",
              "<style scoped>\n",
              "    .dataframe tbody tr th:only-of-type {\n",
              "        vertical-align: middle;\n",
              "    }\n",
              "\n",
              "    .dataframe tbody tr th {\n",
              "        vertical-align: top;\n",
              "    }\n",
              "\n",
              "    .dataframe thead th {\n",
              "        text-align: right;\n",
              "    }\n",
              "</style>\n",
              "<table border=\"1\" class=\"dataframe\">\n",
              "  <thead>\n",
              "    <tr style=\"text-align: right;\">\n",
              "      <th></th>\n",
              "      <th>DATE</th>\n",
              "      <th>PRCP</th>\n",
              "      <th>TMAX</th>\n",
              "      <th>TMIN</th>\n",
              "      <th>RAIN</th>\n",
              "    </tr>\n",
              "  </thead>\n",
              "  <tbody>\n",
              "    <tr>\n",
              "      <th>5743</th>\n",
              "      <td>1963-09-22</td>\n",
              "      <td>0.05</td>\n",
              "      <td>66</td>\n",
              "      <td>56</td>\n",
              "      <td>True</td>\n",
              "    </tr>\n",
              "    <tr>\n",
              "      <th>8208</th>\n",
              "      <td>1970-06-22</td>\n",
              "      <td>0.00</td>\n",
              "      <td>80</td>\n",
              "      <td>55</td>\n",
              "      <td>False</td>\n",
              "    </tr>\n",
              "    <tr>\n",
              "      <th>8601</th>\n",
              "      <td>1971-07-20</td>\n",
              "      <td>0.00</td>\n",
              "      <td>88</td>\n",
              "      <td>63</td>\n",
              "      <td>False</td>\n",
              "    </tr>\n",
              "    <tr>\n",
              "      <th>6836</th>\n",
              "      <td>1966-09-19</td>\n",
              "      <td>0.00</td>\n",
              "      <td>67</td>\n",
              "      <td>47</td>\n",
              "      <td>False</td>\n",
              "    </tr>\n",
              "    <tr>\n",
              "      <th>23499</th>\n",
              "      <td>2012-05-03</td>\n",
              "      <td>0.73</td>\n",
              "      <td>52</td>\n",
              "      <td>45</td>\n",
              "      <td>True</td>\n",
              "    </tr>\n",
              "    <tr>\n",
              "      <th>...</th>\n",
              "      <td>...</td>\n",
              "      <td>...</td>\n",
              "      <td>...</td>\n",
              "      <td>...</td>\n",
              "      <td>...</td>\n",
              "    </tr>\n",
              "    <tr>\n",
              "      <th>4130</th>\n",
              "      <td>1959-04-23</td>\n",
              "      <td>0.00</td>\n",
              "      <td>52</td>\n",
              "      <td>44</td>\n",
              "      <td>False</td>\n",
              "    </tr>\n",
              "    <tr>\n",
              "      <th>4177</th>\n",
              "      <td>1959-06-09</td>\n",
              "      <td>0.02</td>\n",
              "      <td>59</td>\n",
              "      <td>47</td>\n",
              "      <td>True</td>\n",
              "    </tr>\n",
              "    <tr>\n",
              "      <th>15187</th>\n",
              "      <td>1989-07-31</td>\n",
              "      <td>0.00</td>\n",
              "      <td>68</td>\n",
              "      <td>56</td>\n",
              "      <td>False</td>\n",
              "    </tr>\n",
              "    <tr>\n",
              "      <th>16778</th>\n",
              "      <td>1993-12-08</td>\n",
              "      <td>0.52</td>\n",
              "      <td>52</td>\n",
              "      <td>41</td>\n",
              "      <td>True</td>\n",
              "    </tr>\n",
              "    <tr>\n",
              "      <th>25481</th>\n",
              "      <td>2017-10-06</td>\n",
              "      <td>0.01</td>\n",
              "      <td>66</td>\n",
              "      <td>46</td>\n",
              "      <td>True</td>\n",
              "    </tr>\n",
              "  </tbody>\n",
              "</table>\n",
              "<p>7666 rows × 5 columns</p>\n",
              "</div>"
            ],
            "text/plain": [
              "             DATE  PRCP  TMAX  TMIN   RAIN\n",
              "5743   1963-09-22  0.05    66    56   True\n",
              "8208   1970-06-22  0.00    80    55  False\n",
              "8601   1971-07-20  0.00    88    63  False\n",
              "6836   1966-09-19  0.00    67    47  False\n",
              "23499  2012-05-03  0.73    52    45   True\n",
              "...           ...   ...   ...   ...    ...\n",
              "4130   1959-04-23  0.00    52    44  False\n",
              "4177   1959-06-09  0.02    59    47   True\n",
              "15187  1989-07-31  0.00    68    56  False\n",
              "16778  1993-12-08  0.52    52    41   True\n",
              "25481  2017-10-06  0.01    66    46   True\n",
              "\n",
              "[7666 rows x 5 columns]"
            ]
          },
          "metadata": {
            "tags": []
          },
          "execution_count": 8
        }
      ]
    },
    {
      "cell_type": "markdown",
      "metadata": {
        "id": "e99YTmaTmntU"
      },
      "source": [
        "***the accuracy of your predicitions***"
      ]
    },
    {
      "cell_type": "code",
      "metadata": {
        "id": "zH-SvRslmntU",
        "outputId": "843b60a7-8eda-4e10-e55a-2b21b80c0642",
        "colab": {
          "base_uri": "https://localhost:8080/"
        }
      },
      "source": [
        "# we used this simple approach in the first part to see what percent of the time we where correct \n",
        "# calculated as (true positive + true negative)/ number of guesses\n",
        "heuristic_df['correct'].value_counts()/numrows"
      ],
      "execution_count": 9,
      "outputs": [
        {
          "output_type": "execute_result",
          "data": {
            "text/plain": [
              "True     0.671611\n",
              "False    0.328389\n",
              "Name: correct, dtype: float64"
            ]
          },
          "metadata": {
            "tags": []
          },
          "execution_count": 9
        }
      ]
    },
    {
      "cell_type": "markdown",
      "metadata": {
        "id": "bGo1rsQYmntW"
      },
      "source": [
        "***the precision of your predicitions***"
      ]
    },
    {
      "cell_type": "code",
      "metadata": {
        "id": "5vFfJAgSmntW",
        "outputId": "9cb5c6f1-d5bc-47fe-9c0b-09dedbbaf51c",
        "colab": {
          "base_uri": "https://localhost:8080/"
        }
      },
      "source": [
        "# precision is the percent of your postive prediction which are correct\n",
        "# more specifically it is calculated (num true positive)/(num tru positive + num false positive)\n",
        "\n",
        "heuristic_df['true_positive'].sum() / (heuristic_df['true_positive'].sum() + heuristic_df['false_positive'].sum())"
      ],
      "execution_count": 10,
      "outputs": [
        {
          "output_type": "execute_result",
          "data": {
            "text/plain": [
              "0.674109000138677"
            ]
          },
          "metadata": {
            "tags": []
          },
          "execution_count": 10
        }
      ]
    },
    {
      "cell_type": "markdown",
      "metadata": {
        "id": "tyDV8PBImntY"
      },
      "source": [
        "***the recall of your predicitions***"
      ]
    },
    {
      "cell_type": "code",
      "metadata": {
        "id": "znkQUzQsmntZ",
        "outputId": "1169b1d3-81d2-41ac-91e6-838328c5b373",
        "colab": {
          "base_uri": "https://localhost:8080/"
        }
      },
      "source": [
        "# recall the percent of the time you are correct when you predict positive\n",
        "# more specifically it is calculated (num true positive)/(num tru positive + num false negative)\n",
        "\n",
        "heuristic_df['true_positive'].sum() / (heuristic_df['true_positive'].sum() + heuristic_df['false_negative'].sum())"
      ],
      "execution_count": 11,
      "outputs": [
        {
          "output_type": "execute_result",
          "data": {
            "text/plain": [
              "0.44592239244106047"
            ]
          },
          "metadata": {
            "tags": []
          },
          "execution_count": 11
        }
      ]
    },
    {
      "cell_type": "markdown",
      "metadata": {
        "id": "AfU7lUoDmntb"
      },
      "source": [
        "***The sum of squared error (SSE) of your predictions***"
      ]
    },
    {
      "cell_type": "code",
      "metadata": {
        "id": "tusZDKUMmntb",
        "outputId": "e80888d0-e721-4b00-dbbe-3efa1b6515d7",
        "colab": {
          "base_uri": "https://localhost:8080/"
        }
      },
      "source": [
        "import numpy as np\n",
        "\n",
        "def sse(y_true, y_pred):\n",
        "    '''returns sum of squared errors (actual vs model)'''\n",
        "    squared_errors = (y_true - y_pred) ** 2\n",
        "    return np.sum(squared_errors)\n",
        "\n",
        "\n",
        "sse(y_true=heuristic_df['rain_tomorrow'].astype('int'), y_pred=heuristic_df['guess'].astype('int'))"
      ],
      "execution_count": 12,
      "outputs": [
        {
          "output_type": "execute_result",
          "data": {
            "text/plain": [
              "8390"
            ]
          },
          "metadata": {
            "tags": []
          },
          "execution_count": 12
        }
      ]
    },
    {
      "cell_type": "code",
      "metadata": {
        "id": "VLDdHzAumntd",
        "outputId": "2aff2c31-bbe7-45ab-c070-b0c27e3f73b8",
        "colab": {
          "base_uri": "https://localhost:8080/"
        }
      },
      "source": [
        "from sklearn.metrics import mean_squared_error\n",
        "\n",
        "mean_squared_error(y_true=heuristic_df['rain_tomorrow'].astype('int'), y_pred=heuristic_df['guess'].astype('int'))"
      ],
      "execution_count": 16,
      "outputs": [
        {
          "output_type": "execute_result",
          "data": {
            "text/plain": [
              "0.3283885866374418"
            ]
          },
          "metadata": {
            "tags": []
          },
          "execution_count": 16
        }
      ]
    }
  ]
}