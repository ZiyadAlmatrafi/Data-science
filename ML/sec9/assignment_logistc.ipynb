{
  "nbformat": 4,
  "nbformat_minor": 0,
  "metadata": {
    "kernelspec": {
      "display_name": "Python 3",
      "language": "python",
      "name": "python3"
    },
    "language_info": {
      "codemirror_mode": {
        "name": "ipython",
        "version": 3
      },
      "file_extension": ".py",
      "mimetype": "text/x-python",
      "name": "python",
      "nbconvert_exporter": "python",
      "pygments_lexer": "ipython3",
      "version": "3.5.6"
    },
    "colab": {
      "name": "assignment_logistc.ipynb",
      "provenance": [],
      "include_colab_link": true
    }
  },
  "cells": [
    {
      "cell_type": "markdown",
      "metadata": {
        "id": "view-in-github",
        "colab_type": "text"
      },
      "source": [
        "<a href=\"https://colab.research.google.com/github/ZiyadAlmatrafi/Data-science/blob/master/ML/sec9/assignment_logistc.ipynb\" target=\"_parent\"><img src=\"https://colab.research.google.com/assets/colab-badge.svg\" alt=\"Open In Colab\"/></a>"
      ]
    },
    {
      "cell_type": "markdown",
      "metadata": {
        "id": "NoFv-7jvtT1F"
      },
      "source": [
        "### Logistic Regression\n",
        "Using the same seattle weather data as last chapter develop a linear regression model"
      ]
    },
    {
      "cell_type": "code",
      "metadata": {
        "id": "2gEoiXhxtT1G"
      },
      "source": [
        "import pandas as pd\n",
        "import matplotlib.pyplot as plt\n",
        "import seaborn as sns\n",
        "import numpy as np\n",
        "\n",
        "df = pd.read_csv('https://raw.githubusercontent.com/daniel-dc-cd/data_science/master/module_4_ML/data/seattle_weather_1948-2017.csv')\n",
        "\n",
        "numrows = 25549 # can be as large as 25549\n",
        "\n",
        "#create an empty dataframe to hold values\n",
        "regression_df = pd.DataFrame({'today':[0.0] * numrows,\n",
        "                             'tomorrow':[True] * numrows}) #initalize as boolean\n",
        "\n",
        "#sort columns for convience\n",
        "seq = ['today',\n",
        "       'tomorrow']\n",
        "\n",
        "regression_df = regression_df.reindex(columns=seq)"
      ],
      "execution_count": 1,
      "outputs": []
    },
    {
      "cell_type": "code",
      "metadata": {
        "id": "fS_4ACaxtT1G"
      },
      "source": [
        "#populate the regression data frame with values from the pandas dataframe\n",
        "for i in range(0 , numrows):\n",
        "    tomorrow = df.iloc[i,1]\n",
        "    today = df.iloc[(i-1),1]\n",
        "    regression_df.iat[i,1] = tomorrow\n",
        "    regression_df.iat[i,0] = today\n",
        "\n",
        "regression_df = regression_df.dropna() #exclude any rows with missing data"
      ],
      "execution_count": 2,
      "outputs": []
    },
    {
      "cell_type": "code",
      "metadata": {
        "colab": {
          "base_uri": "https://localhost:8080/",
          "height": 662
        },
        "id": "YQcH17oOtT1G",
        "outputId": "eaf7a08e-52b7-459a-c22f-d89c438ed76c"
      },
      "source": [
        "regression_df.head(20)"
      ],
      "execution_count": 3,
      "outputs": [
        {
          "output_type": "execute_result",
          "data": {
            "text/html": [
              "<div>\n",
              "<style scoped>\n",
              "    .dataframe tbody tr th:only-of-type {\n",
              "        vertical-align: middle;\n",
              "    }\n",
              "\n",
              "    .dataframe tbody tr th {\n",
              "        vertical-align: top;\n",
              "    }\n",
              "\n",
              "    .dataframe thead th {\n",
              "        text-align: right;\n",
              "    }\n",
              "</style>\n",
              "<table border=\"1\" class=\"dataframe\">\n",
              "  <thead>\n",
              "    <tr style=\"text-align: right;\">\n",
              "      <th></th>\n",
              "      <th>today</th>\n",
              "      <th>tomorrow</th>\n",
              "    </tr>\n",
              "  </thead>\n",
              "  <tbody>\n",
              "    <tr>\n",
              "      <th>0</th>\n",
              "      <td>0.00</td>\n",
              "      <td>True</td>\n",
              "    </tr>\n",
              "    <tr>\n",
              "      <th>1</th>\n",
              "      <td>0.47</td>\n",
              "      <td>True</td>\n",
              "    </tr>\n",
              "    <tr>\n",
              "      <th>2</th>\n",
              "      <td>0.59</td>\n",
              "      <td>True</td>\n",
              "    </tr>\n",
              "    <tr>\n",
              "      <th>3</th>\n",
              "      <td>0.42</td>\n",
              "      <td>True</td>\n",
              "    </tr>\n",
              "    <tr>\n",
              "      <th>4</th>\n",
              "      <td>0.31</td>\n",
              "      <td>True</td>\n",
              "    </tr>\n",
              "    <tr>\n",
              "      <th>5</th>\n",
              "      <td>0.17</td>\n",
              "      <td>True</td>\n",
              "    </tr>\n",
              "    <tr>\n",
              "      <th>6</th>\n",
              "      <td>0.44</td>\n",
              "      <td>True</td>\n",
              "    </tr>\n",
              "    <tr>\n",
              "      <th>7</th>\n",
              "      <td>0.41</td>\n",
              "      <td>True</td>\n",
              "    </tr>\n",
              "    <tr>\n",
              "      <th>8</th>\n",
              "      <td>0.04</td>\n",
              "      <td>True</td>\n",
              "    </tr>\n",
              "    <tr>\n",
              "      <th>9</th>\n",
              "      <td>0.12</td>\n",
              "      <td>True</td>\n",
              "    </tr>\n",
              "    <tr>\n",
              "      <th>10</th>\n",
              "      <td>0.74</td>\n",
              "      <td>True</td>\n",
              "    </tr>\n",
              "    <tr>\n",
              "      <th>11</th>\n",
              "      <td>0.01</td>\n",
              "      <td>False</td>\n",
              "    </tr>\n",
              "    <tr>\n",
              "      <th>12</th>\n",
              "      <td>0.00</td>\n",
              "      <td>False</td>\n",
              "    </tr>\n",
              "    <tr>\n",
              "      <th>13</th>\n",
              "      <td>0.00</td>\n",
              "      <td>False</td>\n",
              "    </tr>\n",
              "    <tr>\n",
              "      <th>14</th>\n",
              "      <td>0.00</td>\n",
              "      <td>False</td>\n",
              "    </tr>\n",
              "    <tr>\n",
              "      <th>15</th>\n",
              "      <td>0.00</td>\n",
              "      <td>False</td>\n",
              "    </tr>\n",
              "    <tr>\n",
              "      <th>16</th>\n",
              "      <td>0.00</td>\n",
              "      <td>False</td>\n",
              "    </tr>\n",
              "    <tr>\n",
              "      <th>17</th>\n",
              "      <td>0.00</td>\n",
              "      <td>False</td>\n",
              "    </tr>\n",
              "    <tr>\n",
              "      <th>18</th>\n",
              "      <td>0.00</td>\n",
              "      <td>False</td>\n",
              "    </tr>\n",
              "    <tr>\n",
              "      <th>19</th>\n",
              "      <td>0.00</td>\n",
              "      <td>False</td>\n",
              "    </tr>\n",
              "  </tbody>\n",
              "</table>\n",
              "</div>"
            ],
            "text/plain": [
              "    today  tomorrow\n",
              "0    0.00      True\n",
              "1    0.47      True\n",
              "2    0.59      True\n",
              "3    0.42      True\n",
              "4    0.31      True\n",
              "5    0.17      True\n",
              "6    0.44      True\n",
              "7    0.41      True\n",
              "8    0.04      True\n",
              "9    0.12      True\n",
              "10   0.74      True\n",
              "11   0.01     False\n",
              "12   0.00     False\n",
              "13   0.00     False\n",
              "14   0.00     False\n",
              "15   0.00     False\n",
              "16   0.00     False\n",
              "17   0.00     False\n",
              "18   0.00     False\n",
              "19   0.00     False"
            ]
          },
          "metadata": {
            "tags": []
          },
          "execution_count": 3
        }
      ]
    },
    {
      "cell_type": "code",
      "metadata": {
        "id": "krVlZ8HJtT1G"
      },
      "source": [
        "from sklearn import linear_model\n",
        "#modify the data to work with this model\n",
        "x = regression_df.today.values\n",
        "y = regression_df.tomorrow.values\n",
        "x = x.reshape(regression_df.shape[0], 1)\n",
        "#note that we did not need to reshape the y values as we did with linear regression"
      ],
      "execution_count": 4,
      "outputs": []
    },
    {
      "cell_type": "code",
      "metadata": {
        "id": "JbpPi326tT1G"
      },
      "source": [
        "clf = linear_model.LogisticRegression(solver='lbfgs').fit(x, y)"
      ],
      "execution_count": 5,
      "outputs": []
    },
    {
      "cell_type": "code",
      "metadata": {
        "colab": {
          "base_uri": "https://localhost:8080/"
        },
        "id": "j___5fbztT1G",
        "outputId": "600efdf5-0130-4aa2-eeb0-c515ce0d0651"
      },
      "source": [
        "#we can calculate the accuarcy using the score method\n",
        "score = clf.score(x,y)\n",
        "print(score)"
      ],
      "execution_count": 6,
      "outputs": [
        {
          "output_type": "stream",
          "text": [
            "0.6707116574023331\n"
          ],
          "name": "stdout"
        }
      ]
    },
    {
      "cell_type": "code",
      "metadata": {
        "colab": {
          "base_uri": "https://localhost:8080/"
        },
        "id": "9JPLd5fptT1G",
        "outputId": "d37d377e-72cf-45bf-c262-ba4f3ce49be5"
      },
      "source": [
        "from sklearn import metrics\n",
        "#we can also make a simple confusion matrix\n",
        "predictions = clf.predict(x)\n",
        "cm = metrics.confusion_matrix(y, predictions)\n",
        "print(cm)"
      ],
      "execution_count": 7,
      "outputs": [
        {
          "output_type": "stream",
          "text": [
            "[[13431  1213]\n",
            " [ 7199  3703]]\n"
          ],
          "name": "stdout"
        }
      ]
    },
    {
      "cell_type": "code",
      "metadata": {
        "colab": {
          "base_uri": "https://localhost:8080/",
          "height": 520
        },
        "id": "wzqqb_c4tT1G",
        "outputId": "76f6fbee-3c15-42d1-96ec-c2a499857b59"
      },
      "source": [
        "#Here is a bit nicer matrix\n",
        "plt.figure(figsize=(9,9))\n",
        "sns.heatmap(cm, annot=True, fmt=\".3f\", linewidths=.5, square = True, cmap = 'Blues_r');\n",
        "plt.ylabel('Actual label');\n",
        "plt.xlabel('Predicted label');\n",
        "all_sample_title = 'Accuracy Score: {0}'.format(score)\n",
        "plt.title(all_sample_title, size = 15);"
      ],
      "execution_count": 8,
      "outputs": [
        {
          "output_type": "display_data",
          "data": {
            "image/png": "[encoded data removed]",
            "text/plain": [
              "<Figure size 648x648 with 2 Axes>"
            ]
          },
          "metadata": {
            "tags": [],
            "needs_background": "light"
          }
        }
      ]
    },
    {
      "cell_type": "markdown",
      "metadata": {
        "id": "9dF4avSMtT1G"
      },
      "source": [
        "### From this point modify the scikit-learn logistic regression method to use two variables.\n",
        "Hint. Your x values should have the same number of rows but two columns. You will not be able to plot the line (as it will be 3 dimensional) but you can plot the model predictions agains the actual values."
      ]
    },
    {
      "cell_type": "code",
      "metadata": {
        "id": "ekN_tD6itT1G"
      },
      "source": [
        "numrows = 25547 \n",
        "\n",
        "###################### adjust this code to add columns here #######################################\n",
        "regression_df = pd.DataFrame({#'yesterday':[0.0]*numrows,\n",
        "                              'today':[0.0]*numrows,\n",
        "                             'tomorrow':[True]*numrows})\n",
        "\n",
        "#sort columns for convience\n",
        "seq = [#'yesterday',\n",
        "       'today',\n",
        "       'tomorrow']\n",
        "\n",
        "regression_df = regression_df.reindex(columns=seq)\n",
        "\n",
        "for i in range(0 , numrows):\n",
        "   # yesterday = df.iloc[(i-2),1]\n",
        "    tomorrow = df.iloc[i,1]\n",
        "    today = df.iloc[(i-1),1]\n",
        "   # regression_df.iat[i,-1] = yesterday\n",
        "    regression_df.iat[i,1] = tomorrow\n",
        "    regression_df.iat[i,0] = today\n",
        "\n",
        "regression_df = regression_df.dropna() #exclude any rows with missing data\n",
        "#####################################################################################################"
      ],
      "execution_count": 9,
      "outputs": []
    },
    {
      "cell_type": "code",
      "metadata": {
        "colab": {
          "base_uri": "https://localhost:8080/"
        },
        "id": "GmB1ljfzA-Fs",
        "outputId": "e1fc41d0-80bf-4e3c-af43-66b3009ec5d4"
      },
      "source": [
        "regression_df.describe"
      ],
      "execution_count": 10,
      "outputs": [
        {
          "output_type": "execute_result",
          "data": {
            "text/plain": [
              "<bound method NDFrame.describe of        today  tomorrow\n",
              "0       0.00      True\n",
              "1       0.47      True\n",
              "2       0.59      True\n",
              "3       0.42      True\n",
              "4       0.31      True\n",
              "...      ...       ...\n",
              "25542   0.00     False\n",
              "25543   0.00     False\n",
              "25544   0.00     False\n",
              "25545   0.00     False\n",
              "25546   0.00     False\n",
              "\n",
              "[25544 rows x 2 columns]>"
            ]
          },
          "metadata": {
            "tags": []
          },
          "execution_count": 10
        }
      ]
    },
    {
      "cell_type": "code",
      "metadata": {
        "colab": {
          "base_uri": "https://localhost:8080/",
          "height": 662
        },
        "id": "julLlwAK-Fw4",
        "outputId": "01df8a9e-2439-4472-ff32-075342aca5f9"
      },
      "source": [
        "regression_df.head(20)"
      ],
      "execution_count": 15,
      "outputs": [
        {
          "output_type": "execute_result",
          "data": {
            "text/html": [
              "<div>\n",
              "<style scoped>\n",
              "    .dataframe tbody tr th:only-of-type {\n",
              "        vertical-align: middle;\n",
              "    }\n",
              "\n",
              "    .dataframe tbody tr th {\n",
              "        vertical-align: top;\n",
              "    }\n",
              "\n",
              "    .dataframe thead th {\n",
              "        text-align: right;\n",
              "    }\n",
              "</style>\n",
              "<table border=\"1\" class=\"dataframe\">\n",
              "  <thead>\n",
              "    <tr style=\"text-align: right;\">\n",
              "      <th></th>\n",
              "      <th>today</th>\n",
              "      <th>tomorrow</th>\n",
              "    </tr>\n",
              "  </thead>\n",
              "  <tbody>\n",
              "    <tr>\n",
              "      <th>0</th>\n",
              "      <td>0.00</td>\n",
              "      <td>True</td>\n",
              "    </tr>\n",
              "    <tr>\n",
              "      <th>1</th>\n",
              "      <td>0.47</td>\n",
              "      <td>True</td>\n",
              "    </tr>\n",
              "    <tr>\n",
              "      <th>2</th>\n",
              "      <td>0.59</td>\n",
              "      <td>True</td>\n",
              "    </tr>\n",
              "    <tr>\n",
              "      <th>3</th>\n",
              "      <td>0.42</td>\n",
              "      <td>True</td>\n",
              "    </tr>\n",
              "    <tr>\n",
              "      <th>4</th>\n",
              "      <td>0.31</td>\n",
              "      <td>True</td>\n",
              "    </tr>\n",
              "    <tr>\n",
              "      <th>5</th>\n",
              "      <td>0.17</td>\n",
              "      <td>True</td>\n",
              "    </tr>\n",
              "    <tr>\n",
              "      <th>6</th>\n",
              "      <td>0.44</td>\n",
              "      <td>True</td>\n",
              "    </tr>\n",
              "    <tr>\n",
              "      <th>7</th>\n",
              "      <td>0.41</td>\n",
              "      <td>True</td>\n",
              "    </tr>\n",
              "    <tr>\n",
              "      <th>8</th>\n",
              "      <td>0.04</td>\n",
              "      <td>True</td>\n",
              "    </tr>\n",
              "    <tr>\n",
              "      <th>9</th>\n",
              "      <td>0.12</td>\n",
              "      <td>True</td>\n",
              "    </tr>\n",
              "    <tr>\n",
              "      <th>10</th>\n",
              "      <td>0.74</td>\n",
              "      <td>True</td>\n",
              "    </tr>\n",
              "    <tr>\n",
              "      <th>11</th>\n",
              "      <td>0.01</td>\n",
              "      <td>False</td>\n",
              "    </tr>\n",
              "    <tr>\n",
              "      <th>12</th>\n",
              "      <td>0.00</td>\n",
              "      <td>False</td>\n",
              "    </tr>\n",
              "    <tr>\n",
              "      <th>13</th>\n",
              "      <td>0.00</td>\n",
              "      <td>False</td>\n",
              "    </tr>\n",
              "    <tr>\n",
              "      <th>14</th>\n",
              "      <td>0.00</td>\n",
              "      <td>False</td>\n",
              "    </tr>\n",
              "    <tr>\n",
              "      <th>15</th>\n",
              "      <td>0.00</td>\n",
              "      <td>False</td>\n",
              "    </tr>\n",
              "    <tr>\n",
              "      <th>16</th>\n",
              "      <td>0.00</td>\n",
              "      <td>False</td>\n",
              "    </tr>\n",
              "    <tr>\n",
              "      <th>17</th>\n",
              "      <td>0.00</td>\n",
              "      <td>False</td>\n",
              "    </tr>\n",
              "    <tr>\n",
              "      <th>18</th>\n",
              "      <td>0.00</td>\n",
              "      <td>False</td>\n",
              "    </tr>\n",
              "    <tr>\n",
              "      <th>19</th>\n",
              "      <td>0.00</td>\n",
              "      <td>False</td>\n",
              "    </tr>\n",
              "  </tbody>\n",
              "</table>\n",
              "</div>"
            ],
            "text/plain": [
              "    today  tomorrow\n",
              "0    0.00      True\n",
              "1    0.47      True\n",
              "2    0.59      True\n",
              "3    0.42      True\n",
              "4    0.31      True\n",
              "5    0.17      True\n",
              "6    0.44      True\n",
              "7    0.41      True\n",
              "8    0.04      True\n",
              "9    0.12      True\n",
              "10   0.74      True\n",
              "11   0.01     False\n",
              "12   0.00     False\n",
              "13   0.00     False\n",
              "14   0.00     False\n",
              "15   0.00     False\n",
              "16   0.00     False\n",
              "17   0.00     False\n",
              "18   0.00     False\n",
              "19   0.00     False"
            ]
          },
          "metadata": {
            "tags": []
          },
          "execution_count": 15
        }
      ]
    },
    {
      "cell_type": "code",
      "metadata": {
        "id": "szjHpJuu-PUx"
      },
      "source": [
        "from sklearn.linear_model import LogisticRegression\n",
        "#model = LogisticRegression(solver='liblinear')\n",
        "x = regression_df.today.values\n",
        "y = regression_df.tomorrow.values\n",
        "x = x.reshape(regression_df.shape[0], 1)"
      ],
      "execution_count": 16,
      "outputs": []
    },
    {
      "cell_type": "code",
      "metadata": {
        "colab": {
          "base_uri": "https://localhost:8080/"
        },
        "id": "d-3MP78REgwb",
        "outputId": "efa3491e-225d-4f0f-d6de-97d5b7f1b60d"
      },
      "source": [
        "MLA = LogisticRegression(fit_intercept=False)\n",
        "MLA.fit(x,y)\n",
        "score = MLA.score(x,y)\n",
        "              \n",
        "print('accuracy score:', score)"
      ],
      "execution_count": 18,
      "outputs": [
        {
          "output_type": "stream",
          "text": [
            "accuracy score: 0.7110867522705919\n"
          ],
          "name": "stdout"
        }
      ]
    },
    {
      "cell_type": "code",
      "metadata": {
        "colab": {
          "base_uri": "https://localhost:8080/"
        },
        "id": "LGxEYHfJMnhy",
        "outputId": "9448cd6e-8829-4df1-ec7c-d5d5df32e6d5"
      },
      "source": [
        "predictions = MLA.predict(x)\n",
        "cm = metrics.confusion_matrix(y, predictions)\n",
        "print(cm)"
      ],
      "execution_count": null,
      "outputs": [
        {
          "output_type": "stream",
          "text": [
            "[[10953  3689]\n",
            " [ 3691  7211]]\n"
          ],
          "name": "stdout"
        }
      ]
    },
    {
      "cell_type": "code",
      "metadata": {
        "colab": {
          "base_uri": "https://localhost:8080/",
          "height": 520
        },
        "id": "ZTpEOuP0Mzp0",
        "outputId": "750e32e0-5838-499c-f8d0-8322b4ea9e24"
      },
      "source": [
        "plt.figure(figsize=(9,9))\n",
        "sns.heatmap(cm, annot=True, fmt=\".3f\", linewidths=.5, square = True, cmap = 'Blues_r');\n",
        "plt.ylabel('Actual label');\n",
        "plt.xlabel('Predicted label');\n",
        "all_sample_title = 'Accuracy Score: {0}'.format(score)\n",
        "plt.title(all_sample_title, size = 15);"
      ],
      "execution_count": 19,
      "outputs": [
        {
          "output_type": "display_data",
          "data": {
            "image/png": "[encoded data removed]",
            "text/plain": [
              "<Figure size 648x648 with 2 Axes>"
            ]
          },
          "metadata": {
            "tags": [],
            "needs_background": "light"
          }
        }
      ]
    }
  ]
}